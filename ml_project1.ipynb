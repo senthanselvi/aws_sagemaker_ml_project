{
 "cells": [
  {
   "cell_type": "code",
   "execution_count": 101,
   "id": "e2e68217-2cc4-4537-8c07-166081a1f973",
   "metadata": {},
   "outputs": [],
   "source": [
    "import pandas as pd\n",
    "import numpy as np\n",
    "import boto3\n",
    "from sklearn.model_selection import train_test_split\n",
    "import sagemaker\n",
    "from sagemaker import Session\n",
    "import io\n",
    "import sagemaker.amazon.common as smac\n",
    "import os\n",
    "from sagemaker.amazon.amazon_estimator import get_image_uri"
   ]
  },
  {
   "cell_type": "code",
   "execution_count": 102,
   "id": "4fd94829-6ba4-488e-a17f-23f7df0c55ea",
   "metadata": {},
   "outputs": [
    {
     "data": {
      "text/html": [
       "<div>\n",
       "<style scoped>\n",
       "    .dataframe tbody tr th:only-of-type {\n",
       "        vertical-align: middle;\n",
       "    }\n",
       "\n",
       "    .dataframe tbody tr th {\n",
       "        vertical-align: top;\n",
       "    }\n",
       "\n",
       "    .dataframe thead th {\n",
       "        text-align: right;\n",
       "    }\n",
       "</style>\n",
       "<table border=\"1\" class=\"dataframe\">\n",
       "  <thead>\n",
       "    <tr style=\"text-align: right;\">\n",
       "      <th></th>\n",
       "      <th>Hours</th>\n",
       "      <th>Scores</th>\n",
       "    </tr>\n",
       "  </thead>\n",
       "  <tbody>\n",
       "    <tr>\n",
       "      <th>0</th>\n",
       "      <td>2.5</td>\n",
       "      <td>21</td>\n",
       "    </tr>\n",
       "    <tr>\n",
       "      <th>1</th>\n",
       "      <td>5.1</td>\n",
       "      <td>47</td>\n",
       "    </tr>\n",
       "    <tr>\n",
       "      <th>2</th>\n",
       "      <td>3.2</td>\n",
       "      <td>27</td>\n",
       "    </tr>\n",
       "    <tr>\n",
       "      <th>3</th>\n",
       "      <td>8.5</td>\n",
       "      <td>75</td>\n",
       "    </tr>\n",
       "    <tr>\n",
       "      <th>4</th>\n",
       "      <td>3.5</td>\n",
       "      <td>30</td>\n",
       "    </tr>\n",
       "  </tbody>\n",
       "</table>\n",
       "</div>"
      ],
      "text/plain": [
       "   Hours  Scores\n",
       "0    2.5      21\n",
       "1    5.1      47\n",
       "2    3.2      27\n",
       "3    8.5      75\n",
       "4    3.5      30"
      ]
     },
     "execution_count": 102,
     "metadata": {},
     "output_type": "execute_result"
    }
   ],
   "source": [
    "df = pd.read_csv(\"student_scores.csv\")\n",
    "df.head()"
   ]
  },
  {
   "cell_type": "code",
   "execution_count": 103,
   "id": "38aff4e8-36ab-4497-8e44-0b4e3ad8b6cd",
   "metadata": {},
   "outputs": [
    {
     "data": {
      "text/plain": [
       "(25, 2)"
      ]
     },
     "execution_count": 103,
     "metadata": {},
     "output_type": "execute_result"
    }
   ],
   "source": [
    "df.shape"
   ]
  },
  {
   "cell_type": "code",
   "execution_count": 104,
   "id": "334a3c45-08a5-4900-977c-f57e07bbb39f",
   "metadata": {},
   "outputs": [],
   "source": [
    "x = df[[\"Hours\"]]\n",
    "y = df[[\"Scores\"]]"
   ]
  },
  {
   "cell_type": "code",
   "execution_count": 105,
   "id": "d3cc371c-db95-40c7-8094-05372e717228",
   "metadata": {},
   "outputs": [],
   "source": [
    "x.dtypes\n",
    "x = x.astype(\"float32\")\n",
    "y = y.astype(\"float32\")"
   ]
  },
  {
   "cell_type": "code",
   "execution_count": 106,
   "id": "d664a858-8530-454c-8877-a08b3868103b",
   "metadata": {},
   "outputs": [
    {
     "data": {
      "text/plain": [
       "Scores    float32\n",
       "dtype: object"
      ]
     },
     "execution_count": 106,
     "metadata": {},
     "output_type": "execute_result"
    }
   ],
   "source": [
    "y.dtypes"
   ]
  },
  {
   "cell_type": "code",
   "execution_count": 107,
   "id": "ea6f9060-67f7-4697-baaf-c3613379ad86",
   "metadata": {},
   "outputs": [],
   "source": [
    "x_train,x_test,y_train,y_test = train_test_split(x,y,test_size = 0.2)"
   ]
  },
  {
   "cell_type": "code",
   "execution_count": 108,
   "id": "ddd9ba8a-cbfe-4258-adfc-a1a1636a43ad",
   "metadata": {},
   "outputs": [],
   "source": [
    "x_train = x_train.reset_index(drop = True)\n",
    "y_train = y_train.reset_index(drop = True) \n",
    "x_test = x_test.reset_index(drop = True)\n",
    "y_test = y_test.reset_index(drop = True)"
   ]
  },
  {
   "cell_type": "code",
   "execution_count": 109,
   "id": "aec17222-7f65-48cd-9c31-b393ee23db56",
   "metadata": {},
   "outputs": [
    {
     "data": {
      "text/html": [
       "<div>\n",
       "<style scoped>\n",
       "    .dataframe tbody tr th:only-of-type {\n",
       "        vertical-align: middle;\n",
       "    }\n",
       "\n",
       "    .dataframe tbody tr th {\n",
       "        vertical-align: top;\n",
       "    }\n",
       "\n",
       "    .dataframe thead th {\n",
       "        text-align: right;\n",
       "    }\n",
       "</style>\n",
       "<table border=\"1\" class=\"dataframe\">\n",
       "  <thead>\n",
       "    <tr style=\"text-align: right;\">\n",
       "      <th></th>\n",
       "      <th>Hours</th>\n",
       "    </tr>\n",
       "  </thead>\n",
       "  <tbody>\n",
       "    <tr>\n",
       "      <th>0</th>\n",
       "      <td>1.1</td>\n",
       "    </tr>\n",
       "    <tr>\n",
       "      <th>1</th>\n",
       "      <td>8.3</td>\n",
       "    </tr>\n",
       "    <tr>\n",
       "      <th>2</th>\n",
       "      <td>4.8</td>\n",
       "    </tr>\n",
       "    <tr>\n",
       "      <th>3</th>\n",
       "      <td>3.3</td>\n",
       "    </tr>\n",
       "    <tr>\n",
       "      <th>4</th>\n",
       "      <td>1.5</td>\n",
       "    </tr>\n",
       "    <tr>\n",
       "      <th>5</th>\n",
       "      <td>5.9</td>\n",
       "    </tr>\n",
       "    <tr>\n",
       "      <th>6</th>\n",
       "      <td>2.5</td>\n",
       "    </tr>\n",
       "    <tr>\n",
       "      <th>7</th>\n",
       "      <td>3.8</td>\n",
       "    </tr>\n",
       "    <tr>\n",
       "      <th>8</th>\n",
       "      <td>5.5</td>\n",
       "    </tr>\n",
       "    <tr>\n",
       "      <th>9</th>\n",
       "      <td>9.2</td>\n",
       "    </tr>\n",
       "    <tr>\n",
       "      <th>10</th>\n",
       "      <td>7.7</td>\n",
       "    </tr>\n",
       "    <tr>\n",
       "      <th>11</th>\n",
       "      <td>8.9</td>\n",
       "    </tr>\n",
       "    <tr>\n",
       "      <th>12</th>\n",
       "      <td>2.5</td>\n",
       "    </tr>\n",
       "    <tr>\n",
       "      <th>13</th>\n",
       "      <td>4.5</td>\n",
       "    </tr>\n",
       "    <tr>\n",
       "      <th>14</th>\n",
       "      <td>5.1</td>\n",
       "    </tr>\n",
       "    <tr>\n",
       "      <th>15</th>\n",
       "      <td>2.7</td>\n",
       "    </tr>\n",
       "    <tr>\n",
       "      <th>16</th>\n",
       "      <td>3.5</td>\n",
       "    </tr>\n",
       "    <tr>\n",
       "      <th>17</th>\n",
       "      <td>7.8</td>\n",
       "    </tr>\n",
       "    <tr>\n",
       "      <th>18</th>\n",
       "      <td>7.4</td>\n",
       "    </tr>\n",
       "    <tr>\n",
       "      <th>19</th>\n",
       "      <td>1.9</td>\n",
       "    </tr>\n",
       "  </tbody>\n",
       "</table>\n",
       "</div>"
      ],
      "text/plain": [
       "    Hours\n",
       "0     1.1\n",
       "1     8.3\n",
       "2     4.8\n",
       "3     3.3\n",
       "4     1.5\n",
       "5     5.9\n",
       "6     2.5\n",
       "7     3.8\n",
       "8     5.5\n",
       "9     9.2\n",
       "10    7.7\n",
       "11    8.9\n",
       "12    2.5\n",
       "13    4.5\n",
       "14    5.1\n",
       "15    2.7\n",
       "16    3.5\n",
       "17    7.8\n",
       "18    7.4\n",
       "19    1.9"
      ]
     },
     "execution_count": 109,
     "metadata": {},
     "output_type": "execute_result"
    }
   ],
   "source": [
    "x_train"
   ]
  },
  {
   "cell_type": "code",
   "execution_count": 110,
   "id": "463681a8-adc0-420a-9562-a40bbabf62ed",
   "metadata": {},
   "outputs": [
    {
     "data": {
      "text/html": [
       "<div>\n",
       "<style scoped>\n",
       "    .dataframe tbody tr th:only-of-type {\n",
       "        vertical-align: middle;\n",
       "    }\n",
       "\n",
       "    .dataframe tbody tr th {\n",
       "        vertical-align: top;\n",
       "    }\n",
       "\n",
       "    .dataframe thead th {\n",
       "        text-align: right;\n",
       "    }\n",
       "</style>\n",
       "<table border=\"1\" class=\"dataframe\">\n",
       "  <thead>\n",
       "    <tr style=\"text-align: right;\">\n",
       "      <th></th>\n",
       "      <th>Scores</th>\n",
       "    </tr>\n",
       "  </thead>\n",
       "  <tbody>\n",
       "    <tr>\n",
       "      <th>0</th>\n",
       "      <td>17.0</td>\n",
       "    </tr>\n",
       "    <tr>\n",
       "      <th>1</th>\n",
       "      <td>81.0</td>\n",
       "    </tr>\n",
       "    <tr>\n",
       "      <th>2</th>\n",
       "      <td>54.0</td>\n",
       "    </tr>\n",
       "    <tr>\n",
       "      <th>3</th>\n",
       "      <td>42.0</td>\n",
       "    </tr>\n",
       "    <tr>\n",
       "      <th>4</th>\n",
       "      <td>20.0</td>\n",
       "    </tr>\n",
       "    <tr>\n",
       "      <th>5</th>\n",
       "      <td>62.0</td>\n",
       "    </tr>\n",
       "    <tr>\n",
       "      <th>6</th>\n",
       "      <td>30.0</td>\n",
       "    </tr>\n",
       "    <tr>\n",
       "      <th>7</th>\n",
       "      <td>35.0</td>\n",
       "    </tr>\n",
       "    <tr>\n",
       "      <th>8</th>\n",
       "      <td>60.0</td>\n",
       "    </tr>\n",
       "    <tr>\n",
       "      <th>9</th>\n",
       "      <td>88.0</td>\n",
       "    </tr>\n",
       "    <tr>\n",
       "      <th>10</th>\n",
       "      <td>85.0</td>\n",
       "    </tr>\n",
       "    <tr>\n",
       "      <th>11</th>\n",
       "      <td>95.0</td>\n",
       "    </tr>\n",
       "    <tr>\n",
       "      <th>12</th>\n",
       "      <td>21.0</td>\n",
       "    </tr>\n",
       "    <tr>\n",
       "      <th>13</th>\n",
       "      <td>41.0</td>\n",
       "    </tr>\n",
       "    <tr>\n",
       "      <th>14</th>\n",
       "      <td>47.0</td>\n",
       "    </tr>\n",
       "    <tr>\n",
       "      <th>15</th>\n",
       "      <td>25.0</td>\n",
       "    </tr>\n",
       "    <tr>\n",
       "      <th>16</th>\n",
       "      <td>30.0</td>\n",
       "    </tr>\n",
       "    <tr>\n",
       "      <th>17</th>\n",
       "      <td>86.0</td>\n",
       "    </tr>\n",
       "    <tr>\n",
       "      <th>18</th>\n",
       "      <td>69.0</td>\n",
       "    </tr>\n",
       "    <tr>\n",
       "      <th>19</th>\n",
       "      <td>24.0</td>\n",
       "    </tr>\n",
       "  </tbody>\n",
       "</table>\n",
       "</div>"
      ],
      "text/plain": [
       "    Scores\n",
       "0     17.0\n",
       "1     81.0\n",
       "2     54.0\n",
       "3     42.0\n",
       "4     20.0\n",
       "5     62.0\n",
       "6     30.0\n",
       "7     35.0\n",
       "8     60.0\n",
       "9     88.0\n",
       "10    85.0\n",
       "11    95.0\n",
       "12    21.0\n",
       "13    41.0\n",
       "14    47.0\n",
       "15    25.0\n",
       "16    30.0\n",
       "17    86.0\n",
       "18    69.0\n",
       "19    24.0"
      ]
     },
     "execution_count": 110,
     "metadata": {},
     "output_type": "execute_result"
    }
   ],
   "source": [
    "y_train"
   ]
  },
  {
   "cell_type": "code",
   "execution_count": 111,
   "id": "0e46dc8d-1318-4c45-85e4-6451250f5f8d",
   "metadata": {},
   "outputs": [
    {
     "data": {
      "text/plain": [
       "0     17.0\n",
       "1     81.0\n",
       "2     54.0\n",
       "3     42.0\n",
       "4     20.0\n",
       "5     62.0\n",
       "6     30.0\n",
       "7     35.0\n",
       "8     60.0\n",
       "9     88.0\n",
       "10    85.0\n",
       "11    95.0\n",
       "12    21.0\n",
       "13    41.0\n",
       "14    47.0\n",
       "15    25.0\n",
       "16    30.0\n",
       "17    86.0\n",
       "18    69.0\n",
       "19    24.0\n",
       "Name: Scores, dtype: float32"
      ]
     },
     "execution_count": 111,
     "metadata": {},
     "output_type": "execute_result"
    }
   ],
   "source": [
    "y_train = y_train.iloc[:,0]\n",
    "y_train"
   ]
  },
  {
   "cell_type": "code",
   "execution_count": 112,
   "id": "6e2a8028-671c-4813-97f1-33f78044923f",
   "metadata": {},
   "outputs": [
    {
     "data": {
      "text/plain": [
       "0    27.0\n",
       "1    76.0\n",
       "2    75.0\n",
       "3    30.0\n",
       "4    67.0\n",
       "Name: Scores, dtype: float32"
      ]
     },
     "execution_count": 112,
     "metadata": {},
     "output_type": "execute_result"
    }
   ],
   "source": [
    "y_test = y_test.iloc[:,0]\n",
    "y_test"
   ]
  },
  {
   "cell_type": "code",
   "execution_count": 113,
   "id": "db83bd6a-3e41-415d-a347-92d141bd1710",
   "metadata": {},
   "outputs": [],
   "source": [
    "sagemaker_session = sagemaker.Session()\n",
    "bucket_name = \"buckett-sagemaker\"\n",
    "prefix = \"linear-learner\"\n",
    "role = sagemaker.get_execution_role()"
   ]
  },
  {
   "cell_type": "code",
   "execution_count": 114,
   "id": "009e1aba-ea84-4ccb-8088-431e1e8c4f3b",
   "metadata": {},
   "outputs": [],
   "source": [
    "x_train = np.array(x_train)"
   ]
  },
  {
   "cell_type": "code",
   "execution_count": 115,
   "id": "7ffdb2a2-2a5c-44a3-8c97-d5b797af50d2",
   "metadata": {},
   "outputs": [
    {
     "data": {
      "text/plain": [
       "0"
      ]
     },
     "execution_count": 115,
     "metadata": {},
     "output_type": "execute_result"
    }
   ],
   "source": [
    "buf = io.BytesIO()\n",
    "smac.write_numpy_to_dense_tensor(buf,x_train,y_train)\n",
    "buf.seek(0)"
   ]
  },
  {
   "cell_type": "code",
   "execution_count": 116,
   "id": "e171a545-294b-49fd-9e56-509bd40e22e6",
   "metadata": {},
   "outputs": [
    {
     "name": "stdout",
     "output_type": "stream",
     "text": [
      "Data uploaded s3://buckett-sagemaker/linear-learner/train/student-data\n"
     ]
    }
   ],
   "source": [
    "key = \"student-data\"\n",
    "boto3.resource('s3').Bucket(bucket_name).Object(os.path.join(prefix,'train',key)).upload_fileobj(buf)\n",
    "s3_train_data = f\"s3://{bucket_name}/{prefix}/train/{key}\"\n",
    "print(\"Data uploaded\",s3_train_data)"
   ]
  },
  {
   "cell_type": "code",
   "execution_count": 117,
   "id": "e8f7fd04-b8c4-4cbc-b9df-da66767a0509",
   "metadata": {},
   "outputs": [
    {
     "name": "stdout",
     "output_type": "stream",
     "text": [
      "Data uploaded s3://buckett-sagemaker/linear-learner/train/student-data\n"
     ]
    }
   ],
   "source": [
    "x_test = np.array(x_test)\n",
    "buf = io.BytesIO()\n",
    "smac.write_numpy_to_dense_tensor(buf,x_test,y_test)\n",
    "buf.seek(0)\n",
    "key = \"student-data-test\"\n",
    "boto3.resource('s3').Bucket(bucket_name).Object(os.path.join(prefix,'test',key)).upload_fileobj(buf)\n",
    "s3_test_data = f\"s3://{bucket_name}/{prefix}/test/{key}\"\n",
    "print(\"Data uploaded\",s3_train_data)"
   ]
  },
  {
   "cell_type": "code",
   "execution_count": 118,
   "id": "8fa7ec33-0c1b-4c94-9b8b-db9025a765e9",
   "metadata": {},
   "outputs": [
    {
     "data": {
      "text/plain": [
       "'s3://buckett-sagemaker/linear-learner/output'"
      ]
     },
     "execution_count": 118,
     "metadata": {},
     "output_type": "execute_result"
    }
   ],
   "source": [
    "output_location = f\"s3://{bucket_name}/{prefix}/output\"\n",
    "output_location"
   ]
  },
  {
   "cell_type": "code",
   "execution_count": 120,
   "id": "afe1fb42-9137-49fd-b77b-dc4f6127e501",
   "metadata": {},
   "outputs": [
    {
     "name": "stdout",
     "output_type": "stream",
     "text": [
      "\u001b[2;36m[06/19/25 15:13:57]\u001b[0m\u001b[2;36m \u001b[0m\u001b[1;94mINFO    \u001b[0m Same images used for training and \u001b]8;id=200792;file:///opt/conda/lib/python3.11/site-packages/sagemaker/image_uris.py\u001b\\\u001b[2mimage_uris.py\u001b[0m\u001b]8;;\u001b\\\u001b[2m:\u001b[0m\u001b]8;id=312247;file:///opt/conda/lib/python3.11/site-packages/sagemaker/image_uris.py#393\u001b\\\u001b[2m393\u001b[0m\u001b]8;;\u001b\\\n",
      "\u001b[2;36m                    \u001b[0m         inference. Defaulting to image    \u001b[2m                 \u001b[0m\n",
      "\u001b[2;36m                    \u001b[0m         scope: inference.                 \u001b[2m                 \u001b[0m\n",
      "\u001b[2;36m                   \u001b[0m\u001b[2;36m \u001b[0m\u001b[1;94mINFO    \u001b[0m Ignoring unnecessary instance     \u001b]8;id=922857;file:///opt/conda/lib/python3.11/site-packages/sagemaker/image_uris.py\u001b\\\u001b[2mimage_uris.py\u001b[0m\u001b]8;;\u001b\\\u001b[2m:\u001b[0m\u001b]8;id=564481;file:///opt/conda/lib/python3.11/site-packages/sagemaker/image_uris.py#530\u001b\\\u001b[2m530\u001b[0m\u001b]8;;\u001b\\\n",
      "\u001b[2;36m                    \u001b[0m         type: \u001b[3;35mNone\u001b[0m.                       \u001b[2m                 \u001b[0m\n"
     ]
    }
   ],
   "source": [
    "container = sagemaker.image_uris.retrieve(\"linear-learner\",boto3.Session().region_name)"
   ]
  },
  {
   "cell_type": "code",
   "execution_count": 124,
   "id": "9496c23f-33bf-4cf9-98cb-2d62d3d7242b",
   "metadata": {},
   "outputs": [],
   "source": [
    "linear = sagemaker.estimator.Estimator(container,\n",
    "                                       role,\n",
    "                                       instance_count=1,\n",
    "                                       instance_type=\"ml.c4.xlarge\",  \n",
    "                                       output_path=output_location,\n",
    "                                       sagemaker_session=sagemaker_session)\n"
   ]
  },
  {
   "cell_type": "code",
   "execution_count": 126,
   "id": "9e9ff61c-a835-4134-aab8-59304ce32633",
   "metadata": {},
   "outputs": [],
   "source": [
    "linear.set_hyperparameters(feature_dim = 1,\n",
    "                           predictor_type = \"regressor\",\n",
    "                           mini_batch_size = 4,\n",
    "                           epochs = 6,\n",
    "                           num_models = 32,\n",
    "                           loss = \"absolute_loss\")           "
   ]
  },
  {
   "cell_type": "code",
   "execution_count": 127,
   "id": "982e1e5a-8b82-4f86-87cf-79f724fdab00",
   "metadata": {},
   "outputs": [
    {
     "name": "stdout",
     "output_type": "stream",
     "text": [
      "\u001b[2;36m[06/19/25 15:30:29]\u001b[0m\u001b[2;36m \u001b[0m\u001b[1;94mINFO    \u001b[0m SageMaker Python SDK will   \u001b]8;id=551010;file:///opt/conda/lib/python3.11/site-packages/sagemaker/telemetry/telemetry_logging.py\u001b\\\u001b[2mtelemetry_logging.py\u001b[0m\u001b]8;;\u001b\\\u001b[2m:\u001b[0m\u001b]8;id=964503;file:///opt/conda/lib/python3.11/site-packages/sagemaker/telemetry/telemetry_logging.py#91\u001b\\\u001b[2m91\u001b[0m\u001b]8;;\u001b\\\n",
      "\u001b[2;36m                    \u001b[0m         collect telemetry to help   \u001b[2m                       \u001b[0m\n",
      "\u001b[2;36m                    \u001b[0m         us better understand our    \u001b[2m                       \u001b[0m\n",
      "\u001b[2;36m                    \u001b[0m         user's needs, diagnose      \u001b[2m                       \u001b[0m\n",
      "\u001b[2;36m                    \u001b[0m         issues, and deliver         \u001b[2m                       \u001b[0m\n",
      "\u001b[2;36m                    \u001b[0m         additional features.        \u001b[2m                       \u001b[0m\n",
      "\u001b[2;36m                    \u001b[0m         To opt out of telemetry,    \u001b[2m                       \u001b[0m\n",
      "\u001b[2;36m                    \u001b[0m         please disable via          \u001b[2m                       \u001b[0m\n",
      "\u001b[2;36m                    \u001b[0m         TelemetryOptOut parameter   \u001b[2m                       \u001b[0m\n",
      "\u001b[2;36m                    \u001b[0m         in SDK defaults config. For \u001b[2m                       \u001b[0m\n",
      "\u001b[2;36m                    \u001b[0m         more information, refer to  \u001b[2m                       \u001b[0m\n",
      "\u001b[2;36m                    \u001b[0m         \u001b[4;94mhttps://sagemaker.readthedo\u001b[0m \u001b[2m                       \u001b[0m\n",
      "\u001b[2;36m                    \u001b[0m         \u001b[4;94mcs.io/en/stable/overview.ht\u001b[0m \u001b[2m                       \u001b[0m\n",
      "\u001b[2;36m                    \u001b[0m         \u001b[4;94mml#configuring-and-using-de\u001b[0m \u001b[2m                       \u001b[0m\n",
      "\u001b[2;36m                    \u001b[0m         \u001b[4;94mfaults-with-the-sagemaker-p\u001b[0m \u001b[2m                       \u001b[0m\n",
      "\u001b[2;36m                    \u001b[0m         \u001b[4;94mython-sdk.\u001b[0m                  \u001b[2m                       \u001b[0m\n",
      "\u001b[2;36m                   \u001b[0m\u001b[2;36m \u001b[0m\u001b[1;94mINFO    \u001b[0m Creating training-job with name:    \u001b]8;id=643436;file:///opt/conda/lib/python3.11/site-packages/sagemaker/session.py\u001b\\\u001b[2msession.py\u001b[0m\u001b]8;;\u001b\\\u001b[2m:\u001b[0m\u001b]8;id=504731;file:///opt/conda/lib/python3.11/site-packages/sagemaker/session.py#1042\u001b\\\u001b[2m1042\u001b[0m\u001b]8;;\u001b\\\n",
      "\u001b[2;36m                    \u001b[0m         linear-learner-\u001b[1;36m2025\u001b[0m-06-19-15-30-29- \u001b[2m               \u001b[0m\n",
      "\u001b[2;36m                    \u001b[0m         648                                 \u001b[2m               \u001b[0m\n",
      "2025-06-19 15:30:33 Starting - Starting the training job...\n",
      "..25-06-19 15:30:47 Starting - Preparing the instances for training.\n",
      "..25-06-19 15:31:11 Downloading - Downloading input data.\n",
      "........19 15:31:36 Downloading - Downloading the training image.\n",
      "\u001b[34mDocker entrypoint called with argument(s): train\u001b[0mmpleted. Training in progress..\n",
      "\u001b[34mRunning default environment configuration script\u001b[0m\n",
      "\u001b[34m[06/19/2025 15:33:37 INFO 140424578860864] Reading default configuration from /opt/amazon/lib/python3.8/site-packages/algorithm/resources/default-input.json: {'mini_batch_size': '1000', 'epochs': '15', 'feature_dim': 'auto', 'use_bias': 'true', 'binary_classifier_model_selection_criteria': 'accuracy', 'f_beta': '1.0', 'target_recall': '0.8', 'target_precision': '0.8', 'num_models': 'auto', 'num_calibration_samples': '10000000', 'init_method': 'uniform', 'init_scale': '0.07', 'init_sigma': '0.01', 'init_bias': '0.0', 'optimizer': 'auto', 'loss': 'auto', 'margin': '1.0', 'quantile': '0.5', 'loss_insensitivity': '0.01', 'huber_delta': '1.0', 'num_classes': '1', 'accuracy_top_k': '3', 'wd': 'auto', 'l1': 'auto', 'momentum': 'auto', 'learning_rate': 'auto', 'beta_1': 'auto', 'beta_2': 'auto', 'bias_lr_mult': 'auto', 'bias_wd_mult': 'auto', 'use_lr_scheduler': 'true', 'lr_scheduler_step': 'auto', 'lr_scheduler_factor': 'auto', 'lr_scheduler_minimum_lr': 'auto', 'positive_example_weight_mult': '1.0', 'balance_multiclass_weights': 'false', 'normalize_data': 'true', 'normalize_label': 'auto', 'unbias_data': 'auto', 'unbias_label': 'auto', 'num_point_for_scaler': '10000', '_kvstore': 'auto', '_num_gpus': 'auto', '_num_kv_servers': 'auto', '_log_level': 'info', '_tuning_objective_metric': '', 'early_stopping_patience': '3', 'early_stopping_tolerance': '0.001', '_enable_profiler': 'false'}\u001b[0m\n",
      "\u001b[34m[06/19/2025 15:33:37 INFO 140424578860864] Merging with provided configuration from /opt/ml/input/config/hyperparameters.json: {'epochs': '6', 'feature_dim': '1', 'loss': 'absolute_loss', 'mini_batch_size': '4', 'num_models': '32', 'predictor_type': 'regressor'}\u001b[0m\n",
      "\u001b[34m[06/19/2025 15:33:37 INFO 140424578860864] Final configuration: {'mini_batch_size': '4', 'epochs': '6', 'feature_dim': '1', 'use_bias': 'true', 'binary_classifier_model_selection_criteria': 'accuracy', 'f_beta': '1.0', 'target_recall': '0.8', 'target_precision': '0.8', 'num_models': '32', 'num_calibration_samples': '10000000', 'init_method': 'uniform', 'init_scale': '0.07', 'init_sigma': '0.01', 'init_bias': '0.0', 'optimizer': 'auto', 'loss': 'absolute_loss', 'margin': '1.0', 'quantile': '0.5', 'loss_insensitivity': '0.01', 'huber_delta': '1.0', 'num_classes': '1', 'accuracy_top_k': '3', 'wd': 'auto', 'l1': 'auto', 'momentum': 'auto', 'learning_rate': 'auto', 'beta_1': 'auto', 'beta_2': 'auto', 'bias_lr_mult': 'auto', 'bias_wd_mult': 'auto', 'use_lr_scheduler': 'true', 'lr_scheduler_step': 'auto', 'lr_scheduler_factor': 'auto', 'lr_scheduler_minimum_lr': 'auto', 'positive_example_weight_mult': '1.0', 'balance_multiclass_weights': 'false', 'normalize_data': 'true', 'normalize_label': 'auto', 'unbias_data': 'auto', 'unbias_label': 'auto', 'num_point_for_scaler': '10000', '_kvstore': 'auto', '_num_gpus': 'auto', '_num_kv_servers': 'auto', '_log_level': 'info', '_tuning_objective_metric': '', 'early_stopping_patience': '3', 'early_stopping_tolerance': '0.001', '_enable_profiler': 'false', 'predictor_type': 'regressor'}\u001b[0m\n",
      "\u001b[34m/opt/amazon/lib/python3.8/site-packages/mxnet/model.py:97: SyntaxWarning: \"is\" with a literal. Did you mean \"==\"?\n",
      "  if num_device is 1 and 'dist' not in kvstore:\u001b[0m\n",
      "\u001b[34m/opt/amazon/lib/python3.8/site-packages/scipy/optimize/_shgo.py:495: SyntaxWarning: \"is\" with a literal. Did you mean \"==\"?\n",
      "  if cons['type'] is 'ineq':\u001b[0m\n",
      "\u001b[34m/opt/amazon/lib/python3.8/site-packages/scipy/optimize/_shgo.py:743: SyntaxWarning: \"is not\" with a literal. Did you mean \"!=\"?\n",
      "  if len(self.X_min) is not 0:\u001b[0m\n",
      "\u001b[34m[06/19/2025 15:33:39 WARNING 140424578860864] Loggers have already been setup.\u001b[0m\n",
      "\u001b[34m[06/19/2025 15:33:39 INFO 140424578860864] Final configuration: {'mini_batch_size': '4', 'epochs': '6', 'feature_dim': '1', 'use_bias': 'true', 'binary_classifier_model_selection_criteria': 'accuracy', 'f_beta': '1.0', 'target_recall': '0.8', 'target_precision': '0.8', 'num_models': '32', 'num_calibration_samples': '10000000', 'init_method': 'uniform', 'init_scale': '0.07', 'init_sigma': '0.01', 'init_bias': '0.0', 'optimizer': 'auto', 'loss': 'absolute_loss', 'margin': '1.0', 'quantile': '0.5', 'loss_insensitivity': '0.01', 'huber_delta': '1.0', 'num_classes': '1', 'accuracy_top_k': '3', 'wd': 'auto', 'l1': 'auto', 'momentum': 'auto', 'learning_rate': 'auto', 'beta_1': 'auto', 'beta_2': 'auto', 'bias_lr_mult': 'auto', 'bias_wd_mult': 'auto', 'use_lr_scheduler': 'true', 'lr_scheduler_step': 'auto', 'lr_scheduler_factor': 'auto', 'lr_scheduler_minimum_lr': 'auto', 'positive_example_weight_mult': '1.0', 'balance_multiclass_weights': 'false', 'normalize_data': 'true', 'normalize_label': 'auto', 'unbias_data': 'auto', 'unbias_label': 'auto', 'num_point_for_scaler': '10000', '_kvstore': 'auto', '_num_gpus': 'auto', '_num_kv_servers': 'auto', '_log_level': 'info', '_tuning_objective_metric': '', 'early_stopping_patience': '3', 'early_stopping_tolerance': '0.001', '_enable_profiler': 'false', 'predictor_type': 'regressor'}\u001b[0m\n",
      "\u001b[34m[06/19/2025 15:33:39 WARNING 140424578860864] Loggers have already been setup.\u001b[0m\n",
      "\u001b[34mProcess 7 is a worker.\u001b[0m\n",
      "\u001b[34m[06/19/2025 15:33:39 INFO 140424578860864] Using default worker.\u001b[0m\n",
      "\u001b[34m[06/19/2025 15:33:39 INFO 140424578860864] Checkpoint loading and saving are disabled.\u001b[0m\n",
      "\u001b[34m[2025-06-19 15:33:39.511] [tensorio] [info] epoch_stats={\"data_pipeline\": \"/opt/ml/input/data/train\", \"epoch\": 0, \"duration\": 10, \"num_examples\": 1, \"num_bytes\": 192}\u001b[0m\n",
      "\u001b[34m[06/19/2025 15:33:39 INFO 140424578860864] Create Store: local\u001b[0m\n",
      "\u001b[34m[2025-06-19 15:33:39.538] [tensorio] [info] epoch_stats={\"data_pipeline\": \"/opt/ml/input/data/train\", \"epoch\": 1, \"duration\": 25, \"num_examples\": 5, \"num_bytes\": 960}\u001b[0m\n",
      "\u001b[34m[06/19/2025 15:33:39 INFO 140424578860864] Scaler algorithm parameters\n",
      " <algorithm.scaler.ScalerAlgorithmStable object at 0x7fb695356490>\u001b[0m\n",
      "\u001b[34m[06/19/2025 15:33:39 INFO 140424578860864] Scaling model computed with parameters:\n",
      " {'stdev_label': \u001b[0m\n",
      "\u001b[34m[25.372034]\u001b[0m\n",
      "\u001b[34m<NDArray 1 @cpu(0)>, 'stdev_weight': \u001b[0m\n",
      "\u001b[34m[2.5219982]\u001b[0m\n",
      "\u001b[34m<NDArray 1 @cpu(0)>, 'mean_label': \u001b[0m\n",
      "\u001b[34m[50.600002]\u001b[0m\n",
      "\u001b[34m<NDArray 1 @cpu(0)>, 'mean_weight': \u001b[0m\n",
      "\u001b[34m[4.8950005]\u001b[0m\n",
      "\u001b[34m<NDArray 1 @cpu(0)>}\u001b[0m\n",
      "\u001b[34m/opt/amazon/python3.8/lib/python3.8/subprocess.py:848: RuntimeWarning: line buffering (buffering=1) isn't supported in binary mode, the default buffer size will be used\n",
      "  self.stdout = io.open(c2pread, 'rb', bufsize)\u001b[0m\n",
      "\u001b[34m[06/19/2025 15:33:39 INFO 140424578860864] nvidia-smi: took 0.032 seconds to run.\u001b[0m\n",
      "\u001b[34m[06/19/2025 15:33:39 INFO 140424578860864] nvidia-smi identified 0 GPUs.\u001b[0m\n",
      "\u001b[34m[06/19/2025 15:33:39 INFO 140424578860864] Number of GPUs being used: 0\u001b[0m\n",
      "\u001b[34m#metrics {\"StartTime\": 1750347219.622935, \"EndTime\": 1750347219.6229715, \"Dimensions\": {\"Algorithm\": \"Linear Learner\", \"Host\": \"algo-1\", \"Operation\": \"training\", \"Meta\": \"init_train_data_iter\"}, \"Metrics\": {\"Total Records Seen\": {\"sum\": 24.0, \"count\": 1, \"min\": 24, \"max\": 24}, \"Total Batches Seen\": {\"sum\": 6.0, \"count\": 1, \"min\": 6, \"max\": 6}, \"Max Records Seen Between Resets\": {\"sum\": 20.0, \"count\": 1, \"min\": 20, \"max\": 20}, \"Max Batches Seen Between Resets\": {\"sum\": 5.0, \"count\": 1, \"min\": 5, \"max\": 5}, \"Reset Count\": {\"sum\": 2.0, \"count\": 1, \"min\": 2, \"max\": 2}, \"Number of Records Since Last Reset\": {\"sum\": 0.0, \"count\": 1, \"min\": 0, \"max\": 0}, \"Number of Batches Since Last Reset\": {\"sum\": 0.0, \"count\": 1, \"min\": 0, \"max\": 0}}}\u001b[0m\n",
      "\u001b[34m[2025-06-19 15:33:39.687] [tensorio] [info] epoch_stats={\"data_pipeline\": \"/opt/ml/input/data/train\", \"epoch\": 4, \"duration\": 63, \"num_examples\": 5, \"num_bytes\": 960}\u001b[0m\n",
      "\u001b[34m#metrics {\"StartTime\": 1750347219.6872396, \"EndTime\": 1750347219.6872976, \"Dimensions\": {\"Algorithm\": \"Linear Learner\", \"Host\": \"algo-1\", \"Operation\": \"training\", \"epoch\": 0, \"model\": 0}, \"Metrics\": {\"train_absolute_loss_objective\": {\"sum\": 0.8742137789726258, \"count\": 1, \"min\": 0.8742137789726258, \"max\": 0.8742137789726258}}}\u001b[0m\n",
      "\u001b[34m#metrics {\"StartTime\": 1750347219.6873665, \"EndTime\": 1750347219.6873794, \"Dimensions\": {\"Algorithm\": \"Linear Learner\", \"Host\": \"algo-1\", \"Operation\": \"training\", \"epoch\": 0, \"model\": 1}, \"Metrics\": {\"train_absolute_loss_objective\": {\"sum\": 0.893788504600525, \"count\": 1, \"min\": 0.893788504600525, \"max\": 0.893788504600525}}}\u001b[0m\n",
      "\u001b[34m#metrics {\"StartTime\": 1750347219.6874537, \"EndTime\": 1750347219.687465, \"Dimensions\": {\"Algorithm\": \"Linear Learner\", \"Host\": \"algo-1\", \"Operation\": \"training\", \"epoch\": 0, \"model\": 2}, \"Metrics\": {\"train_absolute_loss_objective\": {\"sum\": 0.8765849947929383, \"count\": 1, \"min\": 0.8765849947929383, \"max\": 0.8765849947929383}}}\u001b[0m\n",
      "\u001b[34m#metrics {\"StartTime\": 1750347219.687528, \"EndTime\": 1750347219.6875372, \"Dimensions\": {\"Algorithm\": \"Linear Learner\", \"Host\": \"algo-1\", \"Operation\": \"training\", \"epoch\": 0, \"model\": 3}, \"Metrics\": {\"train_absolute_loss_objective\": {\"sum\": 0.8927881717681885, \"count\": 1, \"min\": 0.8927881717681885, \"max\": 0.8927881717681885}}}\u001b[0m\n",
      "\u001b[34m#metrics {\"StartTime\": 1750347219.6875703, \"EndTime\": 1750347219.6875792, \"Dimensions\": {\"Algorithm\": \"Linear Learner\", \"Host\": \"algo-1\", \"Operation\": \"training\", \"epoch\": 0, \"model\": 4}, \"Metrics\": {\"train_absolute_loss_objective\": {\"sum\": 0.7673145413398743, \"count\": 1, \"min\": 0.7673145413398743, \"max\": 0.7673145413398743}}}\u001b[0m\n",
      "\u001b[34m#metrics {\"StartTime\": 1750347219.6876638, \"EndTime\": 1750347219.687678, \"Dimensions\": {\"Algorithm\": \"Linear Learner\", \"Host\": \"algo-1\", \"Operation\": \"training\", \"epoch\": 0, \"model\": 5}, \"Metrics\": {\"train_absolute_loss_objective\": {\"sum\": 0.777876740694046, \"count\": 1, \"min\": 0.777876740694046, \"max\": 0.777876740694046}}}\u001b[0m\n",
      "\u001b[34m#metrics {\"StartTime\": 1750347219.6877277, \"EndTime\": 1750347219.6877365, \"Dimensions\": {\"Algorithm\": \"Linear Learner\", \"Host\": \"algo-1\", \"Operation\": \"training\", \"epoch\": 0, \"model\": 6}, \"Metrics\": {\"train_absolute_loss_objective\": {\"sum\": 0.8681439161300659, \"count\": 1, \"min\": 0.8681439161300659, \"max\": 0.8681439161300659}}}\u001b[0m\n",
      "\u001b[34m#metrics {\"StartTime\": 1750347219.687788, \"EndTime\": 1750347219.6877975, \"Dimensions\": {\"Algorithm\": \"Linear Learner\", \"Host\": \"algo-1\", \"Operation\": \"training\", \"epoch\": 0, \"model\": 7}, \"Metrics\": {\"train_absolute_loss_objective\": {\"sum\": 0.8367161750793457, \"count\": 1, \"min\": 0.8367161750793457, \"max\": 0.8367161750793457}}}\u001b[0m\n",
      "\u001b[34m#metrics {\"StartTime\": 1750347219.6878307, \"EndTime\": 1750347219.6878388, \"Dimensions\": {\"Algorithm\": \"Linear Learner\", \"Host\": \"algo-1\", \"Operation\": \"training\", \"epoch\": 0, \"model\": 8}, \"Metrics\": {\"train_absolute_loss_objective\": {\"sum\": 0.9291746973991394, \"count\": 1, \"min\": 0.9291746973991394, \"max\": 0.9291746973991394}}}\u001b[0m\n",
      "\u001b[34m#metrics {\"StartTime\": 1750347219.6878898, \"EndTime\": 1750347219.6878996, \"Dimensions\": {\"Algorithm\": \"Linear Learner\", \"Host\": \"algo-1\", \"Operation\": \"training\", \"epoch\": 0, \"model\": 9}, \"Metrics\": {\"train_absolute_loss_objective\": {\"sum\": 0.8623857855796814, \"count\": 1, \"min\": 0.8623857855796814, \"max\": 0.8623857855796814}}}\u001b[0m\n",
      "\u001b[34m#metrics {\"StartTime\": 1750347219.6879678, \"EndTime\": 1750347219.68798, \"Dimensions\": {\"Algorithm\": \"Linear Learner\", \"Host\": \"algo-1\", \"Operation\": \"training\", \"epoch\": 0, \"model\": 10}, \"Metrics\": {\"train_absolute_loss_objective\": {\"sum\": 0.8689721941947937, \"count\": 1, \"min\": 0.8689721941947937, \"max\": 0.8689721941947937}}}\u001b[0m\n",
      "\u001b[34m#metrics {\"StartTime\": 1750347219.6880405, \"EndTime\": 1750347219.6880512, \"Dimensions\": {\"Algorithm\": \"Linear Learner\", \"Host\": \"algo-1\", \"Operation\": \"training\", \"epoch\": 0, \"model\": 11}, \"Metrics\": {\"train_absolute_loss_objective\": {\"sum\": 0.8544077396392822, \"count\": 1, \"min\": 0.8544077396392822, \"max\": 0.8544077396392822}}}\u001b[0m\n",
      "\u001b[34m#metrics {\"StartTime\": 1750347219.6880903, \"EndTime\": 1750347219.6881008, \"Dimensions\": {\"Algorithm\": \"Linear Learner\", \"Host\": \"algo-1\", \"Operation\": \"training\", \"epoch\": 0, \"model\": 12}, \"Metrics\": {\"train_absolute_loss_objective\": {\"sum\": 0.7769245147705078, \"count\": 1, \"min\": 0.7769245147705078, \"max\": 0.7769245147705078}}}\u001b[0m\n",
      "\u001b[34m#metrics {\"StartTime\": 1750347219.688162, \"EndTime\": 1750347219.6881728, \"Dimensions\": {\"Algorithm\": \"Linear Learner\", \"Host\": \"algo-1\", \"Operation\": \"training\", \"epoch\": 0, \"model\": 13}, \"Metrics\": {\"train_absolute_loss_objective\": {\"sum\": 0.8054181694984436, \"count\": 1, \"min\": 0.8054181694984436, \"max\": 0.8054181694984436}}}\u001b[0m\n",
      "\u001b[34m#metrics {\"StartTime\": 1750347219.6882336, \"EndTime\": 1750347219.6882455, \"Dimensions\": {\"Algorithm\": \"Linear Learner\", \"Host\": \"algo-1\", \"Operation\": \"training\", \"epoch\": 0, \"model\": 14}, \"Metrics\": {\"train_absolute_loss_objective\": {\"sum\": 0.775310480594635, \"count\": 1, \"min\": 0.775310480594635, \"max\": 0.775310480594635}}}\u001b[0m\n",
      "\u001b[34m#metrics {\"StartTime\": 1750347219.6882763, \"EndTime\": 1750347219.6882854, \"Dimensions\": {\"Algorithm\": \"Linear Learner\", \"Host\": \"algo-1\", \"Operation\": \"training\", \"epoch\": 0, \"model\": 15}, \"Metrics\": {\"train_absolute_loss_objective\": {\"sum\": 0.8122472167015076, \"count\": 1, \"min\": 0.8122472167015076, \"max\": 0.8122472167015076}}}\u001b[0m\n",
      "\u001b[34m#metrics {\"StartTime\": 1750347219.6883123, \"EndTime\": 1750347219.6883216, \"Dimensions\": {\"Algorithm\": \"Linear Learner\", \"Host\": \"algo-1\", \"Operation\": \"training\", \"epoch\": 0, \"model\": 16}, \"Metrics\": {\"train_absolute_loss_objective\": {\"sum\": 0.8386975884437561, \"count\": 1, \"min\": 0.8386975884437561, \"max\": 0.8386975884437561}}}\u001b[0m\n",
      "\u001b[34m#metrics {\"StartTime\": 1750347219.6883543, \"EndTime\": 1750347219.6883636, \"Dimensions\": {\"Algorithm\": \"Linear Learner\", \"Host\": \"algo-1\", \"Operation\": \"training\", \"epoch\": 0, \"model\": 17}, \"Metrics\": {\"train_absolute_loss_objective\": {\"sum\": 0.88911452293396, \"count\": 1, \"min\": 0.88911452293396, \"max\": 0.88911452293396}}}\u001b[0m\n",
      "\u001b[34m#metrics {\"StartTime\": 1750347219.6884289, \"EndTime\": 1750347219.6884396, \"Dimensions\": {\"Algorithm\": \"Linear Learner\", \"Host\": \"algo-1\", \"Operation\": \"training\", \"epoch\": 0, \"model\": 18}, \"Metrics\": {\"train_absolute_loss_objective\": {\"sum\": 0.865320909023285, \"count\": 1, \"min\": 0.865320909023285, \"max\": 0.865320909023285}}}\u001b[0m\n",
      "\u001b[34m#metrics {\"StartTime\": 1750347219.6884756, \"EndTime\": 1750347219.6884851, \"Dimensions\": {\"Algorithm\": \"Linear Learner\", \"Host\": \"algo-1\", \"Operation\": \"training\", \"epoch\": 0, \"model\": 19}, \"Metrics\": {\"train_absolute_loss_objective\": {\"sum\": 0.8626631140708924, \"count\": 1, \"min\": 0.8626631140708924, \"max\": 0.8626631140708924}}}\u001b[0m\n",
      "\u001b[34m#metrics {\"StartTime\": 1750347219.6885512, \"EndTime\": 1750347219.6885617, \"Dimensions\": {\"Algorithm\": \"Linear Learner\", \"Host\": \"algo-1\", \"Operation\": \"training\", \"epoch\": 0, \"model\": 20}, \"Metrics\": {\"train_absolute_loss_objective\": {\"sum\": 0.8267299413681031, \"count\": 1, \"min\": 0.8267299413681031, \"max\": 0.8267299413681031}}}\u001b[0m\n",
      "\u001b[34m#metrics {\"StartTime\": 1750347219.6886206, \"EndTime\": 1750347219.6886303, \"Dimensions\": {\"Algorithm\": \"Linear Learner\", \"Host\": \"algo-1\", \"Operation\": \"training\", \"epoch\": 0, \"model\": 21}, \"Metrics\": {\"train_absolute_loss_objective\": {\"sum\": 0.8431155025959015, \"count\": 1, \"min\": 0.8431155025959015, \"max\": 0.8431155025959015}}}\u001b[0m\n",
      "\u001b[34m#metrics {\"StartTime\": 1750347219.6886904, \"EndTime\": 1750347219.6887014, \"Dimensions\": {\"Algorithm\": \"Linear Learner\", \"Host\": \"algo-1\", \"Operation\": \"training\", \"epoch\": 0, \"model\": 22}, \"Metrics\": {\"train_absolute_loss_objective\": {\"sum\": 0.7736637115478515, \"count\": 1, \"min\": 0.7736637115478515, \"max\": 0.7736637115478515}}}\u001b[0m\n",
      "\u001b[34m#metrics {\"StartTime\": 1750347219.688766, \"EndTime\": 1750347219.688778, \"Dimensions\": {\"Algorithm\": \"Linear Learner\", \"Host\": \"algo-1\", \"Operation\": \"training\", \"epoch\": 0, \"model\": 23}, \"Metrics\": {\"train_absolute_loss_objective\": {\"sum\": 0.8713110566139222, \"count\": 1, \"min\": 0.8713110566139222, \"max\": 0.8713110566139222}}}\u001b[0m\n",
      "\u001b[34m#metrics {\"StartTime\": 1750347219.688842, \"EndTime\": 1750347219.6888533, \"Dimensions\": {\"Algorithm\": \"Linear Learner\", \"Host\": \"algo-1\", \"Operation\": \"training\", \"epoch\": 0, \"model\": 24}, \"Metrics\": {\"train_absolute_loss_objective\": {\"sum\": 0.8415418267250061, \"count\": 1, \"min\": 0.8415418267250061, \"max\": 0.8415418267250061}}}\u001b[0m\n",
      "\u001b[34m#metrics {\"StartTime\": 1750347219.688889, \"EndTime\": 1750347219.6888988, \"Dimensions\": {\"Algorithm\": \"Linear Learner\", \"Host\": \"algo-1\", \"Operation\": \"training\", \"epoch\": 0, \"model\": 25}, \"Metrics\": {\"train_absolute_loss_objective\": {\"sum\": 0.9070961594581604, \"count\": 1, \"min\": 0.9070961594581604, \"max\": 0.9070961594581604}}}\u001b[0m\n",
      "\u001b[34m#metrics {\"StartTime\": 1750347219.6889584, \"EndTime\": 1750347219.6889687, \"Dimensions\": {\"Algorithm\": \"Linear Learner\", \"Host\": \"algo-1\", \"Operation\": \"training\", \"epoch\": 0, \"model\": 26}, \"Metrics\": {\"train_absolute_loss_objective\": {\"sum\": 0.894012451171875, \"count\": 1, \"min\": 0.894012451171875, \"max\": 0.894012451171875}}}\u001b[0m\n",
      "\u001b[34m#metrics {\"StartTime\": 1750347219.689038, \"EndTime\": 1750347219.6890507, \"Dimensions\": {\"Algorithm\": \"Linear Learner\", \"Host\": \"algo-1\", \"Operation\": \"training\", \"epoch\": 0, \"model\": 27}, \"Metrics\": {\"train_absolute_loss_objective\": {\"sum\": 0.8834734916687011, \"count\": 1, \"min\": 0.8834734916687011, \"max\": 0.8834734916687011}}}\u001b[0m\n",
      "\u001b[34m#metrics {\"StartTime\": 1750347219.6891167, \"EndTime\": 1750347219.6891274, \"Dimensions\": {\"Algorithm\": \"Linear Learner\", \"Host\": \"algo-1\", \"Operation\": \"training\", \"epoch\": 0, \"model\": 28}, \"Metrics\": {\"train_absolute_loss_objective\": {\"sum\": 0.9759054124355316, \"count\": 1, \"min\": 0.9759054124355316, \"max\": 0.9759054124355316}}}\u001b[0m\n",
      "\u001b[34m#metrics {\"StartTime\": 1750347219.6891716, \"EndTime\": 1750347219.6891813, \"Dimensions\": {\"Algorithm\": \"Linear Learner\", \"Host\": \"algo-1\", \"Operation\": \"training\", \"epoch\": 0, \"model\": 29}, \"Metrics\": {\"train_absolute_loss_objective\": {\"sum\": 0.9763098359107971, \"count\": 1, \"min\": 0.9763098359107971, \"max\": 0.9763098359107971}}}\u001b[0m\n",
      "\u001b[34m#metrics {\"StartTime\": 1750347219.6892462, \"EndTime\": 1750347219.6892574, \"Dimensions\": {\"Algorithm\": \"Linear Learner\", \"Host\": \"algo-1\", \"Operation\": \"training\", \"epoch\": 0, \"model\": 30}, \"Metrics\": {\"train_absolute_loss_objective\": {\"sum\": 0.9740523040294647, \"count\": 1, \"min\": 0.9740523040294647, \"max\": 0.9740523040294647}}}\u001b[0m\n",
      "\u001b[34m#metrics {\"StartTime\": 1750347219.6893234, \"EndTime\": 1750347219.6893358, \"Dimensions\": {\"Algorithm\": \"Linear Learner\", \"Host\": \"algo-1\", \"Operation\": \"training\", \"epoch\": 0, \"model\": 31}, \"Metrics\": {\"train_absolute_loss_objective\": {\"sum\": 0.9774720549583436, \"count\": 1, \"min\": 0.9774720549583436, \"max\": 0.9774720549583436}}}\u001b[0m\n",
      "\u001b[34m[06/19/2025 15:33:39 INFO 140424578860864] #quality_metric: host=algo-1, epoch=0, train absolute_loss_objective <loss>=0.8742137789726258\u001b[0m\n",
      "\u001b[34m[06/19/2025 15:33:39 INFO 140424578860864] #early_stopping_criteria_metric: host=algo-1, epoch=0, criteria=absolute_loss_objective, value=0.7673145413398743\u001b[0m\n",
      "\u001b[34m[06/19/2025 15:33:39 INFO 140424578860864] Epoch 0: Loss improved. Updating best model\u001b[0m\n",
      "\u001b[34m[06/19/2025 15:33:39 INFO 140424578860864] Saving model for epoch: 0\u001b[0m\n",
      "\u001b[34m[06/19/2025 15:33:39 INFO 140424578860864] Saved checkpoint to \"/tmp/tmpul7jyeef/mx-mod-0000.params\"\u001b[0m\n",
      "\u001b[34m[06/19/2025 15:33:39 INFO 140424578860864] #progress_metric: host=algo-1, completed 16.666666666666668 % of epochs\u001b[0m\n",
      "\u001b[34m#metrics {\"StartTime\": 1750347219.623189, \"EndTime\": 1750347219.6970403, \"Dimensions\": {\"Algorithm\": \"Linear Learner\", \"Host\": \"algo-1\", \"Operation\": \"training\", \"epoch\": 0, \"Meta\": \"training_data_iter\"}, \"Metrics\": {\"Total Records Seen\": {\"sum\": 44.0, \"count\": 1, \"min\": 44, \"max\": 44}, \"Total Batches Seen\": {\"sum\": 11.0, \"count\": 1, \"min\": 11, \"max\": 11}, \"Max Records Seen Between Resets\": {\"sum\": 20.0, \"count\": 1, \"min\": 20, \"max\": 20}, \"Max Batches Seen Between Resets\": {\"sum\": 5.0, \"count\": 1, \"min\": 5, \"max\": 5}, \"Reset Count\": {\"sum\": 3.0, \"count\": 1, \"min\": 3, \"max\": 3}, \"Number of Records Since Last Reset\": {\"sum\": 20.0, \"count\": 1, \"min\": 20, \"max\": 20}, \"Number of Batches Since Last Reset\": {\"sum\": 5.0, \"count\": 1, \"min\": 5, \"max\": 5}}}\u001b[0m\n",
      "\u001b[34m[06/19/2025 15:33:39 INFO 140424578860864] #throughput_metric: host=algo-1, train throughput=270.3795934285889 records/second\u001b[0m\n",
      "\u001b[34m[2025-06-19 15:33:39.764] [tensorio] [info] epoch_stats={\"data_pipeline\": \"/opt/ml/input/data/train\", \"epoch\": 6, \"duration\": 66, \"num_examples\": 5, \"num_bytes\": 960}\u001b[0m\n",
      "\u001b[34m#metrics {\"StartTime\": 1750347219.7642043, \"EndTime\": 1750347219.7642589, \"Dimensions\": {\"Algorithm\": \"Linear Learner\", \"Host\": \"algo-1\", \"Operation\": \"training\", \"epoch\": 1, \"model\": 0}, \"Metrics\": {\"train_absolute_loss_objective\": {\"sum\": 0.8463192582130432, \"count\": 1, \"min\": 0.8463192582130432, \"max\": 0.8463192582130432}}}\u001b[0m\n",
      "\u001b[34m#metrics {\"StartTime\": 1750347219.7643254, \"EndTime\": 1750347219.7643394, \"Dimensions\": {\"Algorithm\": \"Linear Learner\", \"Host\": \"algo-1\", \"Operation\": \"training\", \"epoch\": 1, \"model\": 1}, \"Metrics\": {\"train_absolute_loss_objective\": {\"sum\": 0.8658939599990845, \"count\": 1, \"min\": 0.8658939599990845, \"max\": 0.8658939599990845}}}\u001b[0m\n",
      "\u001b[34m#metrics {\"StartTime\": 1750347219.7643683, \"EndTime\": 1750347219.7643762, \"Dimensions\": {\"Algorithm\": \"Linear Learner\", \"Host\": \"algo-1\", \"Operation\": \"training\", \"epoch\": 1, \"model\": 2}, \"Metrics\": {\"train_absolute_loss_objective\": {\"sum\": 0.8486904621124267, \"count\": 1, \"min\": 0.8486904621124267, \"max\": 0.8486904621124267}}}\u001b[0m\n",
      "\u001b[34m#metrics {\"StartTime\": 1750347219.7643993, \"EndTime\": 1750347219.7644057, \"Dimensions\": {\"Algorithm\": \"Linear Learner\", \"Host\": \"algo-1\", \"Operation\": \"training\", \"epoch\": 1, \"model\": 3}, \"Metrics\": {\"train_absolute_loss_objective\": {\"sum\": 0.8648936033248902, \"count\": 1, \"min\": 0.8648936033248902, \"max\": 0.8648936033248902}}}\u001b[0m\n",
      "\u001b[34m#metrics {\"StartTime\": 1750347219.7644296, \"EndTime\": 1750347219.7644372, \"Dimensions\": {\"Algorithm\": \"Linear Learner\", \"Host\": \"algo-1\", \"Operation\": \"training\", \"epoch\": 1, \"model\": 4}, \"Metrics\": {\"train_absolute_loss_objective\": {\"sum\": 0.33392164707183836, \"count\": 1, \"min\": 0.33392164707183836, \"max\": 0.33392164707183836}}}\u001b[0m\n",
      "\u001b[34m#metrics {\"StartTime\": 1750347219.7644892, \"EndTime\": 1750347219.7644992, \"Dimensions\": {\"Algorithm\": \"Linear Learner\", \"Host\": \"algo-1\", \"Operation\": \"training\", \"epoch\": 1, \"model\": 5}, \"Metrics\": {\"train_absolute_loss_objective\": {\"sum\": 0.3413456678390503, \"count\": 1, \"min\": 0.3413456678390503, \"max\": 0.3413456678390503}}}\u001b[0m\n",
      "\u001b[34m#metrics {\"StartTime\": 1750347219.76453, \"EndTime\": 1750347219.764538, \"Dimensions\": {\"Algorithm\": \"Linear Learner\", \"Host\": \"algo-1\", \"Operation\": \"training\", \"epoch\": 1, \"model\": 6}, \"Metrics\": {\"train_absolute_loss_objective\": {\"sum\": 0.48378737568855285, \"count\": 1, \"min\": 0.48378737568855285, \"max\": 0.48378737568855285}}}\u001b[0m\n",
      "\u001b[34m#metrics {\"StartTime\": 1750347219.7645698, \"EndTime\": 1750347219.7645783, \"Dimensions\": {\"Algorithm\": \"Linear Learner\", \"Host\": \"algo-1\", \"Operation\": \"training\", \"epoch\": 1, \"model\": 7}, \"Metrics\": {\"train_absolute_loss_objective\": {\"sum\": 0.38549311757087706, \"count\": 1, \"min\": 0.38549311757087706, \"max\": 0.38549311757087706}}}\u001b[0m\n",
      "\u001b[34m#metrics {\"StartTime\": 1750347219.7646334, \"EndTime\": 1750347219.764643, \"Dimensions\": {\"Algorithm\": \"Linear Learner\", \"Host\": \"algo-1\", \"Operation\": \"training\", \"epoch\": 1, \"model\": 8}, \"Metrics\": {\"train_absolute_loss_objective\": {\"sum\": 0.901279866695404, \"count\": 1, \"min\": 0.901279866695404, \"max\": 0.901279866695404}}}\u001b[0m\n",
      "\u001b[34m#metrics {\"StartTime\": 1750347219.7646782, \"EndTime\": 1750347219.764687, \"Dimensions\": {\"Algorithm\": \"Linear Learner\", \"Host\": \"algo-1\", \"Operation\": \"training\", \"epoch\": 1, \"model\": 9}, \"Metrics\": {\"train_absolute_loss_objective\": {\"sum\": 0.8344919562339783, \"count\": 1, \"min\": 0.8344919562339783, \"max\": 0.8344919562339783}}}\u001b[0m\n",
      "\u001b[34m#metrics {\"StartTime\": 1750347219.7647493, \"EndTime\": 1750347219.76476, \"Dimensions\": {\"Algorithm\": \"Linear Learner\", \"Host\": \"algo-1\", \"Operation\": \"training\", \"epoch\": 1, \"model\": 10}, \"Metrics\": {\"train_absolute_loss_objective\": {\"sum\": 0.841078245639801, \"count\": 1, \"min\": 0.841078245639801, \"max\": 0.841078245639801}}}\u001b[0m\n",
      "\u001b[34m#metrics {\"StartTime\": 1750347219.7653365, \"EndTime\": 1750347219.7653565, \"Dimensions\": {\"Algorithm\": \"Linear Learner\", \"Host\": \"algo-1\", \"Operation\": \"training\", \"epoch\": 1, \"model\": 11}, \"Metrics\": {\"train_absolute_loss_objective\": {\"sum\": 0.8265140533447266, \"count\": 1, \"min\": 0.8265140533447266, \"max\": 0.8265140533447266}}}\u001b[0m\n",
      "\u001b[34m#metrics {\"StartTime\": 1750347219.7653995, \"EndTime\": 1750347219.765409, \"Dimensions\": {\"Algorithm\": \"Linear Learner\", \"Host\": \"algo-1\", \"Operation\": \"training\", \"epoch\": 1, \"model\": 12}, \"Metrics\": {\"train_absolute_loss_objective\": {\"sum\": 0.3407875657081604, \"count\": 1, \"min\": 0.3407875657081604, \"max\": 0.3407875657081604}}}\u001b[0m\n",
      "\u001b[34m#metrics {\"StartTime\": 1750347219.7654846, \"EndTime\": 1750347219.7654965, \"Dimensions\": {\"Algorithm\": \"Linear Learner\", \"Host\": \"algo-1\", \"Operation\": \"training\", \"epoch\": 1, \"model\": 13}, \"Metrics\": {\"train_absolute_loss_objective\": {\"sum\": 0.3608093112707138, \"count\": 1, \"min\": 0.3608093112707138, \"max\": 0.3608093112707138}}}\u001b[0m\n",
      "\u001b[34m#metrics {\"StartTime\": 1750347219.7655654, \"EndTime\": 1750347219.7655778, \"Dimensions\": {\"Algorithm\": \"Linear Learner\", \"Host\": \"algo-1\", \"Operation\": \"training\", \"epoch\": 1, \"model\": 14}, \"Metrics\": {\"train_absolute_loss_objective\": {\"sum\": 0.33965339660644533, \"count\": 1, \"min\": 0.33965339660644533, \"max\": 0.33965339660644533}}}\u001b[0m\n",
      "\u001b[34m#metrics {\"StartTime\": 1750347219.7656467, \"EndTime\": 1750347219.7656765, \"Dimensions\": {\"Algorithm\": \"Linear Learner\", \"Host\": \"algo-1\", \"Operation\": \"training\", \"epoch\": 1, \"model\": 15}, \"Metrics\": {\"train_absolute_loss_objective\": {\"sum\": 0.365607887506485, \"count\": 1, \"min\": 0.365607887506485, \"max\": 0.365607887506485}}}\u001b[0m\n",
      "\u001b[34m#metrics {\"StartTime\": 1750347219.76575, \"EndTime\": 1750347219.765763, \"Dimensions\": {\"Algorithm\": \"Linear Learner\", \"Host\": \"algo-1\", \"Operation\": \"training\", \"epoch\": 1, \"model\": 16}, \"Metrics\": {\"train_absolute_loss_objective\": {\"sum\": 0.8109224557876586, \"count\": 1, \"min\": 0.8109224557876586, \"max\": 0.8109224557876586}}}\u001b[0m\n",
      "\u001b[34m#metrics {\"StartTime\": 1750347219.7657936, \"EndTime\": 1750347219.7658024, \"Dimensions\": {\"Algorithm\": \"Linear Learner\", \"Host\": \"algo-1\", \"Operation\": \"training\", \"epoch\": 1, \"model\": 17}, \"Metrics\": {\"train_absolute_loss_objective\": {\"sum\": 0.8612516522407532, \"count\": 1, \"min\": 0.8612516522407532, \"max\": 0.8612516522407532}}}\u001b[0m\n",
      "\u001b[34m#metrics {\"StartTime\": 1750347219.7658367, \"EndTime\": 1750347219.7658455, \"Dimensions\": {\"Algorithm\": \"Linear Learner\", \"Host\": \"algo-1\", \"Operation\": \"training\", \"epoch\": 1, \"model\": 18}, \"Metrics\": {\"train_absolute_loss_objective\": {\"sum\": 0.8374972939491272, \"count\": 1, \"min\": 0.8374972939491272, \"max\": 0.8374972939491272}}}\u001b[0m\n",
      "\u001b[34m#metrics {\"StartTime\": 1750347219.7658777, \"EndTime\": 1750347219.7658865, \"Dimensions\": {\"Algorithm\": \"Linear Learner\", \"Host\": \"algo-1\", \"Operation\": \"training\", \"epoch\": 1, \"model\": 19}, \"Metrics\": {\"train_absolute_loss_objective\": {\"sum\": 0.8348441123962402, \"count\": 1, \"min\": 0.8348441123962402, \"max\": 0.8348441123962402}}}\u001b[0m\n",
      "\u001b[34m#metrics {\"StartTime\": 1750347219.7659128, \"EndTime\": 1750347219.765921, \"Dimensions\": {\"Algorithm\": \"Linear Learner\", \"Host\": \"algo-1\", \"Operation\": \"training\", \"epoch\": 1, \"model\": 20}, \"Metrics\": {\"train_absolute_loss_objective\": {\"sum\": 0.4057692885398865, \"count\": 1, \"min\": 0.4057692885398865, \"max\": 0.4057692885398865}}}\u001b[0m\n",
      "\u001b[34m#metrics {\"StartTime\": 1750347219.765953, \"EndTime\": 1750347219.7659628, \"Dimensions\": {\"Algorithm\": \"Linear Learner\", \"Host\": \"algo-1\", \"Operation\": \"training\", \"epoch\": 1, \"model\": 21}, \"Metrics\": {\"train_absolute_loss_objective\": {\"sum\": 0.4872609078884125, \"count\": 1, \"min\": 0.4872609078884125, \"max\": 0.4872609078884125}}}\u001b[0m\n",
      "\u001b[34m#metrics {\"StartTime\": 1750347219.7660375, \"EndTime\": 1750347219.7660494, \"Dimensions\": {\"Algorithm\": \"Linear Learner\", \"Host\": \"algo-1\", \"Operation\": \"training\", \"epoch\": 1, \"model\": 22}, \"Metrics\": {\"train_absolute_loss_objective\": {\"sum\": 0.3673935979604721, \"count\": 1, \"min\": 0.3673935979604721, \"max\": 0.3673935979604721}}}\u001b[0m\n",
      "\u001b[34m#metrics {\"StartTime\": 1750347219.7661114, \"EndTime\": 1750347219.7661226, \"Dimensions\": {\"Algorithm\": \"Linear Learner\", \"Host\": \"algo-1\", \"Operation\": \"training\", \"epoch\": 1, \"model\": 23}, \"Metrics\": {\"train_absolute_loss_objective\": {\"sum\": 0.5098339736461639, \"count\": 1, \"min\": 0.5098339736461639, \"max\": 0.5098339736461639}}}\u001b[0m\n",
      "\u001b[34m#metrics {\"StartTime\": 1750347219.76619, \"EndTime\": 1750347219.7662022, \"Dimensions\": {\"Algorithm\": \"Linear Learner\", \"Host\": \"algo-1\", \"Operation\": \"training\", \"epoch\": 1, \"model\": 24}, \"Metrics\": {\"train_absolute_loss_objective\": {\"sum\": 0.8546711206436157, \"count\": 1, \"min\": 0.8546711206436157, \"max\": 0.8546711206436157}}}\u001b[0m\n",
      "\u001b[34m#metrics {\"StartTime\": 1750347219.766268, \"EndTime\": 1750347219.7662804, \"Dimensions\": {\"Algorithm\": \"Linear Learner\", \"Host\": \"algo-1\", \"Operation\": \"training\", \"epoch\": 1, \"model\": 25}, \"Metrics\": {\"train_absolute_loss_objective\": {\"sum\": 0.8802886366844177, \"count\": 1, \"min\": 0.8802886366844177, \"max\": 0.8802886366844177}}}\u001b[0m\n",
      "\u001b[34m#metrics {\"StartTime\": 1750347219.7663174, \"EndTime\": 1750347219.7663267, \"Dimensions\": {\"Algorithm\": \"Linear Learner\", \"Host\": \"algo-1\", \"Operation\": \"training\", \"epoch\": 1, \"model\": 26}, \"Metrics\": {\"train_absolute_loss_objective\": {\"sum\": 0.8699885725975036, \"count\": 1, \"min\": 0.8699885725975036, \"max\": 0.8699885725975036}}}\u001b[0m\n",
      "\u001b[34m#metrics {\"StartTime\": 1750347219.7663863, \"EndTime\": 1750347219.7663968, \"Dimensions\": {\"Algorithm\": \"Linear Learner\", \"Host\": \"algo-1\", \"Operation\": \"training\", \"epoch\": 1, \"model\": 27}, \"Metrics\": {\"train_absolute_loss_objective\": {\"sum\": 0.8699289202690125, \"count\": 1, \"min\": 0.8699289202690125, \"max\": 0.8699289202690125}}}\u001b[0m\n",
      "\u001b[34m#metrics {\"StartTime\": 1750347219.766461, \"EndTime\": 1750347219.7664719, \"Dimensions\": {\"Algorithm\": \"Linear Learner\", \"Host\": \"algo-1\", \"Operation\": \"training\", \"epoch\": 1, \"model\": 28}, \"Metrics\": {\"train_absolute_loss_objective\": {\"sum\": 0.9609582662582398, \"count\": 1, \"min\": 0.9609582662582398, \"max\": 0.9609582662582398}}}\u001b[0m\n",
      "\u001b[34m#metrics {\"StartTime\": 1750347219.7665296, \"EndTime\": 1750347219.7665408, \"Dimensions\": {\"Algorithm\": \"Linear Learner\", \"Host\": \"algo-1\", \"Operation\": \"training\", \"epoch\": 1, \"model\": 29}, \"Metrics\": {\"train_absolute_loss_objective\": {\"sum\": 0.960106360912323, \"count\": 1, \"min\": 0.960106360912323, \"max\": 0.960106360912323}}}\u001b[0m\n",
      "\u001b[34m#metrics {\"StartTime\": 1750347219.766605, \"EndTime\": 1750347219.7666156, \"Dimensions\": {\"Algorithm\": \"Linear Learner\", \"Host\": \"algo-1\", \"Operation\": \"training\", \"epoch\": 1, \"model\": 30}, \"Metrics\": {\"train_absolute_loss_objective\": {\"sum\": 0.9535110473632813, \"count\": 1, \"min\": 0.9535110473632813, \"max\": 0.9535110473632813}}}\u001b[0m\n",
      "\u001b[34m#metrics {\"StartTime\": 1750347219.766682, \"EndTime\": 1750347219.766695, \"Dimensions\": {\"Algorithm\": \"Linear Learner\", \"Host\": \"algo-1\", \"Operation\": \"training\", \"epoch\": 1, \"model\": 31}, \"Metrics\": {\"train_absolute_loss_objective\": {\"sum\": 0.9537526607513428, \"count\": 1, \"min\": 0.9537526607513428, \"max\": 0.9537526607513428}}}\u001b[0m\n",
      "\u001b[34m[06/19/2025 15:33:39 INFO 140424578860864] #quality_metric: host=algo-1, epoch=1, train absolute_loss_objective <loss>=0.8463192582130432\u001b[0m\n",
      "\u001b[34m[06/19/2025 15:33:39 INFO 140424578860864] #early_stopping_criteria_metric: host=algo-1, epoch=1, criteria=absolute_loss_objective, value=0.33392164707183836\u001b[0m\n",
      "\u001b[34m[06/19/2025 15:33:39 INFO 140424578860864] Epoch 1: Loss improved. Updating best model\u001b[0m\n",
      "\u001b[34m[06/19/2025 15:33:39 INFO 140424578860864] Saving model for epoch: 1\u001b[0m\n",
      "\u001b[34m[06/19/2025 15:33:39 INFO 140424578860864] Saved checkpoint to \"/tmp/tmps7xdagls/mx-mod-0000.params\"\u001b[0m\n",
      "\u001b[34m[06/19/2025 15:33:39 INFO 140424578860864] #progress_metric: host=algo-1, completed 33.333333333333336 % of epochs\u001b[0m\n",
      "\u001b[34m#metrics {\"StartTime\": 1750347219.6973186, \"EndTime\": 1750347219.7729135, \"Dimensions\": {\"Algorithm\": \"Linear Learner\", \"Host\": \"algo-1\", \"Operation\": \"training\", \"epoch\": 1, \"Meta\": \"training_data_iter\"}, \"Metrics\": {\"Total Records Seen\": {\"sum\": 64.0, \"count\": 1, \"min\": 64, \"max\": 64}, \"Total Batches Seen\": {\"sum\": 16.0, \"count\": 1, \"min\": 16, \"max\": 16}, \"Max Records Seen Between Resets\": {\"sum\": 20.0, \"count\": 1, \"min\": 20, \"max\": 20}, \"Max Batches Seen Between Resets\": {\"sum\": 5.0, \"count\": 1, \"min\": 5, \"max\": 5}, \"Reset Count\": {\"sum\": 4.0, \"count\": 1, \"min\": 4, \"max\": 4}, \"Number of Records Since Last Reset\": {\"sum\": 20.0, \"count\": 1, \"min\": 20, \"max\": 20}, \"Number of Batches Since Last Reset\": {\"sum\": 5.0, \"count\": 1, \"min\": 5, \"max\": 5}}}\u001b[0m\n",
      "\u001b[34m[06/19/2025 15:33:39 INFO 140424578860864] #throughput_metric: host=algo-1, train throughput=264.16902064891184 records/second\u001b[0m\n",
      "\u001b[34m[2025-06-19 15:33:39.835] [tensorio] [info] epoch_stats={\"data_pipeline\": \"/opt/ml/input/data/train\", \"epoch\": 8, \"duration\": 62, \"num_examples\": 5, \"num_bytes\": 960}\u001b[0m\n",
      "\u001b[34m#metrics {\"StartTime\": 1750347219.8359568, \"EndTime\": 1750347219.836011, \"Dimensions\": {\"Algorithm\": \"Linear Learner\", \"Host\": \"algo-1\", \"Operation\": \"training\", \"epoch\": 2, \"model\": 0}, \"Metrics\": {\"train_absolute_loss_objective\": {\"sum\": 0.8217101454734802, \"count\": 1, \"min\": 0.8217101454734802, \"max\": 0.8217101454734802}}}\u001b[0m\n",
      "\u001b[34m#metrics {\"StartTime\": 1750347219.8361652, \"EndTime\": 1750347219.8361814, \"Dimensions\": {\"Algorithm\": \"Linear Learner\", \"Host\": \"algo-1\", \"Operation\": \"training\", \"epoch\": 2, \"model\": 1}, \"Metrics\": {\"train_absolute_loss_objective\": {\"sum\": 0.8411964058876038, \"count\": 1, \"min\": 0.8411964058876038, \"max\": 0.8411964058876038}}}\u001b[0m\n",
      "\u001b[34m#metrics {\"StartTime\": 1750347219.8362496, \"EndTime\": 1750347219.8363173, \"Dimensions\": {\"Algorithm\": \"Linear Learner\", \"Host\": \"algo-1\", \"Operation\": \"training\", \"epoch\": 2, \"model\": 2}, \"Metrics\": {\"train_absolute_loss_objective\": {\"sum\": 0.8240813493728638, \"count\": 1, \"min\": 0.8240813493728638, \"max\": 0.8240813493728638}}}\u001b[0m\n",
      "\u001b[34m#metrics {\"StartTime\": 1750347219.8364277, \"EndTime\": 1750347219.836442, \"Dimensions\": {\"Algorithm\": \"Linear Learner\", \"Host\": \"algo-1\", \"Operation\": \"training\", \"epoch\": 2, \"model\": 3}, \"Metrics\": {\"train_absolute_loss_objective\": {\"sum\": 0.8401960849761962, \"count\": 1, \"min\": 0.8401960849761962, \"max\": 0.8401960849761962}}}\u001b[0m\n",
      "\u001b[34m#metrics {\"StartTime\": 1750347219.8365157, \"EndTime\": 1750347219.836527, \"Dimensions\": {\"Algorithm\": \"Linear Learner\", \"Host\": \"algo-1\", \"Operation\": \"training\", \"epoch\": 2, \"model\": 4}, \"Metrics\": {\"train_absolute_loss_objective\": {\"sum\": 0.25811774134635923, \"count\": 1, \"min\": 0.25811774134635923, \"max\": 0.25811774134635923}}}\u001b[0m\n",
      "\u001b[34m#metrics {\"StartTime\": 1750347219.836599, \"EndTime\": 1750347219.8366113, \"Dimensions\": {\"Algorithm\": \"Linear Learner\", \"Host\": \"algo-1\", \"Operation\": \"training\", \"epoch\": 2, \"model\": 5}, \"Metrics\": {\"train_absolute_loss_objective\": {\"sum\": 0.25612360835075376, \"count\": 1, \"min\": 0.25612360835075376, \"max\": 0.25612360835075376}}}\u001b[0m\n",
      "\u001b[34m#metrics {\"StartTime\": 1750347219.8366785, \"EndTime\": 1750347219.8366904, \"Dimensions\": {\"Algorithm\": \"Linear Learner\", \"Host\": \"algo-1\", \"Operation\": \"training\", \"epoch\": 2, \"model\": 6}, \"Metrics\": {\"train_absolute_loss_objective\": {\"sum\": 0.16965702176094055, \"count\": 1, \"min\": 0.16965702176094055, \"max\": 0.16965702176094055}}}\u001b[0m\n",
      "\u001b[34m#metrics {\"StartTime\": 1750347219.8367538, \"EndTime\": 1750347219.8367653, \"Dimensions\": {\"Algorithm\": \"Linear Learner\", \"Host\": \"algo-1\", \"Operation\": \"training\", \"epoch\": 2, \"model\": 7}, \"Metrics\": {\"train_absolute_loss_objective\": {\"sum\": 0.31657248437404634, \"count\": 1, \"min\": 0.31657248437404634, \"max\": 0.31657248437404634}}}\u001b[0m\n",
      "\u001b[34m#metrics {\"StartTime\": 1750347219.8368306, \"EndTime\": 1750347219.8368423, \"Dimensions\": {\"Algorithm\": \"Linear Learner\", \"Host\": \"algo-1\", \"Operation\": \"training\", \"epoch\": 2, \"model\": 8}, \"Metrics\": {\"train_absolute_loss_objective\": {\"sum\": 0.8766712188720703, \"count\": 1, \"min\": 0.8766712188720703, \"max\": 0.8766712188720703}}}\u001b[0m\n",
      "\u001b[34m#metrics {\"StartTime\": 1750347219.8369095, \"EndTime\": 1750347219.836921, \"Dimensions\": {\"Algorithm\": \"Linear Learner\", \"Host\": \"algo-1\", \"Operation\": \"training\", \"epoch\": 2, \"model\": 9}, \"Metrics\": {\"train_absolute_loss_objective\": {\"sum\": 0.8097960829734803, \"count\": 1, \"min\": 0.8097960829734803, \"max\": 0.8097960829734803}}}\u001b[0m\n",
      "\u001b[34m#metrics {\"StartTime\": 1750347219.836986, \"EndTime\": 1750347219.8369977, \"Dimensions\": {\"Algorithm\": \"Linear Learner\", \"Host\": \"algo-1\", \"Operation\": \"training\", \"epoch\": 2, \"model\": 10}, \"Metrics\": {\"train_absolute_loss_objective\": {\"sum\": 0.8164707064628601, \"count\": 1, \"min\": 0.8164707064628601, \"max\": 0.8164707064628601}}}\u001b[0m\n",
      "\u001b[34m#metrics {\"StartTime\": 1750347219.8370676, \"EndTime\": 1750347219.837079, \"Dimensions\": {\"Algorithm\": \"Linear Learner\", \"Host\": \"algo-1\", \"Operation\": \"training\", \"epoch\": 2, \"model\": 11}, \"Metrics\": {\"train_absolute_loss_objective\": {\"sum\": 0.801818311214447, \"count\": 1, \"min\": 0.801818311214447, \"max\": 0.801818311214447}}}\u001b[0m\n",
      "\u001b[34m#metrics {\"StartTime\": 1750347219.8371522, \"EndTime\": 1750347219.8371713, \"Dimensions\": {\"Algorithm\": \"Linear Learner\", \"Host\": \"algo-1\", \"Operation\": \"training\", \"epoch\": 2, \"model\": 12}, \"Metrics\": {\"train_absolute_loss_objective\": {\"sum\": 0.25510015785694123, \"count\": 1, \"min\": 0.25510015785694123, \"max\": 0.25510015785694123}}}\u001b[0m\n",
      "\u001b[34m#metrics {\"StartTime\": 1750347219.8372416, \"EndTime\": 1750347219.8372536, \"Dimensions\": {\"Algorithm\": \"Linear Learner\", \"Host\": \"algo-1\", \"Operation\": \"training\", \"epoch\": 2, \"model\": 13}, \"Metrics\": {\"train_absolute_loss_objective\": {\"sum\": 0.22463719844818114, \"count\": 1, \"min\": 0.22463719844818114, \"max\": 0.22463719844818114}}}\u001b[0m\n",
      "\u001b[34m#metrics {\"StartTime\": 1750347219.8372817, \"EndTime\": 1750347219.8372898, \"Dimensions\": {\"Algorithm\": \"Linear Learner\", \"Host\": \"algo-1\", \"Operation\": \"training\", \"epoch\": 2, \"model\": 14}, \"Metrics\": {\"train_absolute_loss_objective\": {\"sum\": 0.2555435925722122, \"count\": 1, \"min\": 0.2555435925722122, \"max\": 0.2555435925722122}}}\u001b[0m\n",
      "\u001b[34m#metrics {\"StartTime\": 1750347219.8373156, \"EndTime\": 1750347219.8373241, \"Dimensions\": {\"Algorithm\": \"Linear Learner\", \"Host\": \"algo-1\", \"Operation\": \"training\", \"epoch\": 2, \"model\": 15}, \"Metrics\": {\"train_absolute_loss_objective\": {\"sum\": 0.22240643799304963, \"count\": 1, \"min\": 0.22240643799304963, \"max\": 0.22240643799304963}}}\u001b[0m\n",
      "\u001b[34m#metrics {\"StartTime\": 1750347219.8373504, \"EndTime\": 1750347219.837358, \"Dimensions\": {\"Algorithm\": \"Linear Learner\", \"Host\": \"algo-1\", \"Operation\": \"training\", \"epoch\": 2, \"model\": 16}, \"Metrics\": {\"train_absolute_loss_objective\": {\"sum\": 0.7865496873855591, \"count\": 1, \"min\": 0.7865496873855591, \"max\": 0.7865496873855591}}}\u001b[0m\n",
      "\u001b[34m#metrics {\"StartTime\": 1750347219.8373835, \"EndTime\": 1750347219.8373923, \"Dimensions\": {\"Algorithm\": \"Linear Learner\", \"Host\": \"algo-1\", \"Operation\": \"training\", \"epoch\": 2, \"model\": 17}, \"Metrics\": {\"train_absolute_loss_objective\": {\"sum\": 0.8366802930831909, \"count\": 1, \"min\": 0.8366802930831909, \"max\": 0.8366802930831909}}}\u001b[0m\n",
      "\u001b[34m#metrics {\"StartTime\": 1750347219.8374171, \"EndTime\": 1750347219.8374255, \"Dimensions\": {\"Algorithm\": \"Linear Learner\", \"Host\": \"algo-1\", \"Operation\": \"training\", \"epoch\": 2, \"model\": 18}, \"Metrics\": {\"train_absolute_loss_objective\": {\"sum\": 0.8130632519721985, \"count\": 1, \"min\": 0.8130632519721985, \"max\": 0.8130632519721985}}}\u001b[0m\n",
      "\u001b[34m#metrics {\"StartTime\": 1750347219.8374507, \"EndTime\": 1750347219.8374581, \"Dimensions\": {\"Algorithm\": \"Linear Learner\", \"Host\": \"algo-1\", \"Operation\": \"training\", \"epoch\": 2, \"model\": 19}, \"Metrics\": {\"train_absolute_loss_objective\": {\"sum\": 0.8103284358978271, \"count\": 1, \"min\": 0.8103284358978271, \"max\": 0.8103284358978271}}}\u001b[0m\n",
      "\u001b[34m#metrics {\"StartTime\": 1750347219.8374841, \"EndTime\": 1750347219.8374918, \"Dimensions\": {\"Algorithm\": \"Linear Learner\", \"Host\": \"algo-1\", \"Operation\": \"training\", \"epoch\": 2, \"model\": 20}, \"Metrics\": {\"train_absolute_loss_objective\": {\"sum\": 0.34652920365333556, \"count\": 1, \"min\": 0.34652920365333556, \"max\": 0.34652920365333556}}}\u001b[0m\n",
      "\u001b[34m#metrics {\"StartTime\": 1750347219.8375175, \"EndTime\": 1750347219.837525, \"Dimensions\": {\"Algorithm\": \"Linear Learner\", \"Host\": \"algo-1\", \"Operation\": \"training\", \"epoch\": 2, \"model\": 21}, \"Metrics\": {\"train_absolute_loss_objective\": {\"sum\": 0.2396084725856781, \"count\": 1, \"min\": 0.2396084725856781, \"max\": 0.2396084725856781}}}\u001b[0m\n",
      "\u001b[34m#metrics {\"StartTime\": 1750347219.8375502, \"EndTime\": 1750347219.8375576, \"Dimensions\": {\"Algorithm\": \"Linear Learner\", \"Host\": \"algo-1\", \"Operation\": \"training\", \"epoch\": 2, \"model\": 22}, \"Metrics\": {\"train_absolute_loss_objective\": {\"sum\": 0.380084627866745, \"count\": 1, \"min\": 0.380084627866745, \"max\": 0.380084627866745}}}\u001b[0m\n",
      "\u001b[34m#metrics {\"StartTime\": 1750347219.8375826, \"EndTime\": 1750347219.83759, \"Dimensions\": {\"Algorithm\": \"Linear Learner\", \"Host\": \"algo-1\", \"Operation\": \"training\", \"epoch\": 2, \"model\": 23}, \"Metrics\": {\"train_absolute_loss_objective\": {\"sum\": 0.24326072931289672, \"count\": 1, \"min\": 0.24326072931289672, \"max\": 0.24326072931289672}}}\u001b[0m\n",
      "\u001b[34m#metrics {\"StartTime\": 1750347219.8376167, \"EndTime\": 1750347219.8376243, \"Dimensions\": {\"Algorithm\": \"Linear Learner\", \"Host\": \"algo-1\", \"Operation\": \"training\", \"epoch\": 2, \"model\": 24}, \"Metrics\": {\"train_absolute_loss_objective\": {\"sum\": 0.8676406264305114, \"count\": 1, \"min\": 0.8676406264305114, \"max\": 0.8676406264305114}}}\u001b[0m\n",
      "\u001b[34m#metrics {\"StartTime\": 1750347219.8376694, \"EndTime\": 1750347219.8376794, \"Dimensions\": {\"Algorithm\": \"Linear Learner\", \"Host\": \"algo-1\", \"Operation\": \"training\", \"epoch\": 2, \"model\": 25}, \"Metrics\": {\"train_absolute_loss_objective\": {\"sum\": 0.8627493739128113, \"count\": 1, \"min\": 0.8627493739128113, \"max\": 0.8627493739128113}}}\u001b[0m\n",
      "\u001b[34m#metrics {\"StartTime\": 1750347219.837735, \"EndTime\": 1750347219.8377452, \"Dimensions\": {\"Algorithm\": \"Linear Learner\", \"Host\": \"algo-1\", \"Operation\": \"training\", \"epoch\": 2, \"model\": 26}, \"Metrics\": {\"train_absolute_loss_objective\": {\"sum\": 0.8620174407958985, \"count\": 1, \"min\": 0.8620174407958985, \"max\": 0.8620174407958985}}}\u001b[0m\n",
      "\u001b[34m#metrics {\"StartTime\": 1750347219.8377988, \"EndTime\": 1750347219.8378084, \"Dimensions\": {\"Algorithm\": \"Linear Learner\", \"Host\": \"algo-1\", \"Operation\": \"training\", \"epoch\": 2, \"model\": 27}, \"Metrics\": {\"train_absolute_loss_objective\": {\"sum\": 0.8714398264884948, \"count\": 1, \"min\": 0.8714398264884948, \"max\": 0.8714398264884948}}}\u001b[0m\n",
      "\u001b[34m#metrics {\"StartTime\": 1750347219.8378634, \"EndTime\": 1750347219.8378735, \"Dimensions\": {\"Algorithm\": \"Linear Learner\", \"Host\": \"algo-1\", \"Operation\": \"training\", \"epoch\": 2, \"model\": 28}, \"Metrics\": {\"train_absolute_loss_objective\": {\"sum\": 0.9089720249176025, \"count\": 1, \"min\": 0.9089720249176025, \"max\": 0.9089720249176025}}}\u001b[0m\n",
      "\u001b[34m#metrics {\"StartTime\": 1750347219.8379278, \"EndTime\": 1750347219.8379388, \"Dimensions\": {\"Algorithm\": \"Linear Learner\", \"Host\": \"algo-1\", \"Operation\": \"training\", \"epoch\": 2, \"model\": 29}, \"Metrics\": {\"train_absolute_loss_objective\": {\"sum\": 0.9090055108070374, \"count\": 1, \"min\": 0.9090055108070374, \"max\": 0.9090055108070374}}}\u001b[0m\n",
      "\u001b[34m#metrics {\"StartTime\": 1750347219.8379943, \"EndTime\": 1750347219.8380046, \"Dimensions\": {\"Algorithm\": \"Linear Learner\", \"Host\": \"algo-1\", \"Operation\": \"training\", \"epoch\": 2, \"model\": 30}, \"Metrics\": {\"train_absolute_loss_objective\": {\"sum\": 0.9160728454589844, \"count\": 1, \"min\": 0.9160728454589844, \"max\": 0.9160728454589844}}}\u001b[0m\n",
      "\u001b[34m#metrics {\"StartTime\": 1750347219.8380587, \"EndTime\": 1750347219.8380685, \"Dimensions\": {\"Algorithm\": \"Linear Learner\", \"Host\": \"algo-1\", \"Operation\": \"training\", \"epoch\": 2, \"model\": 31}, \"Metrics\": {\"train_absolute_loss_objective\": {\"sum\": 0.9275262832641602, \"count\": 1, \"min\": 0.9275262832641602, \"max\": 0.9275262832641602}}}\u001b[0m\n",
      "\u001b[34m[06/19/2025 15:33:39 INFO 140424578860864] #quality_metric: host=algo-1, epoch=2, train absolute_loss_objective <loss>=0.8217101454734802\u001b[0m\n",
      "\u001b[34m[06/19/2025 15:33:39 INFO 140424578860864] #early_stopping_criteria_metric: host=algo-1, epoch=2, criteria=absolute_loss_objective, value=0.16965702176094055\u001b[0m\n",
      "\u001b[34m[06/19/2025 15:33:39 INFO 140424578860864] Epoch 2: Loss improved. Updating best model\u001b[0m\n",
      "\u001b[34m[06/19/2025 15:33:39 INFO 140424578860864] Saving model for epoch: 2\u001b[0m\n",
      "\u001b[34m[06/19/2025 15:33:39 INFO 140424578860864] Saved checkpoint to \"/tmp/tmp4besgmzt/mx-mod-0000.params\"\u001b[0m\n",
      "\u001b[34m[06/19/2025 15:33:39 INFO 140424578860864] #progress_metric: host=algo-1, completed 50.0 % of epochs\u001b[0m\n",
      "\u001b[34m#metrics {\"StartTime\": 1750347219.773122, \"EndTime\": 1750347219.8459463, \"Dimensions\": {\"Algorithm\": \"Linear Learner\", \"Host\": \"algo-1\", \"Operation\": \"training\", \"epoch\": 2, \"Meta\": \"training_data_iter\"}, \"Metrics\": {\"Total Records Seen\": {\"sum\": 84.0, \"count\": 1, \"min\": 84, \"max\": 84}, \"Total Batches Seen\": {\"sum\": 21.0, \"count\": 1, \"min\": 21, \"max\": 21}, \"Max Records Seen Between Resets\": {\"sum\": 20.0, \"count\": 1, \"min\": 20, \"max\": 20}, \"Max Batches Seen Between Resets\": {\"sum\": 5.0, \"count\": 1, \"min\": 5, \"max\": 5}, \"Reset Count\": {\"sum\": 5.0, \"count\": 1, \"min\": 5, \"max\": 5}, \"Number of Records Since Last Reset\": {\"sum\": 20.0, \"count\": 1, \"min\": 20, \"max\": 20}, \"Number of Batches Since Last Reset\": {\"sum\": 5.0, \"count\": 1, \"min\": 5, \"max\": 5}}}\u001b[0m\n",
      "\u001b[34m[06/19/2025 15:33:39 INFO 140424578860864] #throughput_metric: host=algo-1, train throughput=274.1169127810655 records/second\u001b[0m\n",
      "\u001b[34m[2025-06-19 15:33:39.907] [tensorio] [info] epoch_stats={\"data_pipeline\": \"/opt/ml/input/data/train\", \"epoch\": 10, \"duration\": 60, \"num_examples\": 5, \"num_bytes\": 960}\u001b[0m\n",
      "\u001b[34m#metrics {\"StartTime\": 1750347219.9070592, \"EndTime\": 1750347219.9071116, \"Dimensions\": {\"Algorithm\": \"Linear Learner\", \"Host\": \"algo-1\", \"Operation\": \"training\", \"epoch\": 3, \"model\": 0}, \"Metrics\": {\"train_absolute_loss_objective\": {\"sum\": 0.7975246787071228, \"count\": 1, \"min\": 0.7975246787071228, \"max\": 0.7975246787071228}}}\u001b[0m\n",
      "\u001b[34m#metrics {\"StartTime\": 1750347219.9071736, \"EndTime\": 1750347219.9071865, \"Dimensions\": {\"Algorithm\": \"Linear Learner\", \"Host\": \"algo-1\", \"Operation\": \"training\", \"epoch\": 3, \"model\": 1}, \"Metrics\": {\"train_absolute_loss_objective\": {\"sum\": 0.8167666435241699, \"count\": 1, \"min\": 0.8167666435241699, \"max\": 0.8167666435241699}}}\u001b[0m\n",
      "\u001b[34m#metrics {\"StartTime\": 1750347219.907219, \"EndTime\": 1750347219.9072278, \"Dimensions\": {\"Algorithm\": \"Linear Learner\", \"Host\": \"algo-1\", \"Operation\": \"training\", \"epoch\": 3, \"model\": 2}, \"Metrics\": {\"train_absolute_loss_objective\": {\"sum\": 0.7998958766460419, \"count\": 1, \"min\": 0.7998958766460419, \"max\": 0.7998958766460419}}}\u001b[0m\n",
      "\u001b[34m#metrics {\"StartTime\": 1750347219.9072516, \"EndTime\": 1750347219.9072583, \"Dimensions\": {\"Algorithm\": \"Linear Learner\", \"Host\": \"algo-1\", \"Operation\": \"training\", \"epoch\": 3, \"model\": 3}, \"Metrics\": {\"train_absolute_loss_objective\": {\"sum\": 0.8157663106918335, \"count\": 1, \"min\": 0.8157663106918335, \"max\": 0.8157663106918335}}}\u001b[0m\n",
      "\u001b[34m#metrics {\"StartTime\": 1750347219.9072824, \"EndTime\": 1750347219.9072902, \"Dimensions\": {\"Algorithm\": \"Linear Learner\", \"Host\": \"algo-1\", \"Operation\": \"training\", \"epoch\": 3, \"model\": 4}, \"Metrics\": {\"train_absolute_loss_objective\": {\"sum\": 0.24666611850261688, \"count\": 1, \"min\": 0.24666611850261688, \"max\": 0.24666611850261688}}}\u001b[0m\n",
      "\u001b[34m#metrics {\"StartTime\": 1750347219.9073393, \"EndTime\": 1750347219.9073484, \"Dimensions\": {\"Algorithm\": \"Linear Learner\", \"Host\": \"algo-1\", \"Operation\": \"training\", \"epoch\": 3, \"model\": 5}, \"Metrics\": {\"train_absolute_loss_objective\": {\"sum\": 0.2367224335670471, \"count\": 1, \"min\": 0.2367224335670471, \"max\": 0.2367224335670471}}}\u001b[0m\n",
      "\u001b[34m#metrics {\"StartTime\": 1750347219.9074223, \"EndTime\": 1750347219.9074328, \"Dimensions\": {\"Algorithm\": \"Linear Learner\", \"Host\": \"algo-1\", \"Operation\": \"training\", \"epoch\": 3, \"model\": 6}, \"Metrics\": {\"train_absolute_loss_objective\": {\"sum\": 0.2669036254286766, \"count\": 1, \"min\": 0.2669036254286766, \"max\": 0.2669036254286766}}}\u001b[0m\n",
      "\u001b[34m#metrics {\"StartTime\": 1750347219.9074671, \"EndTime\": 1750347219.9074757, \"Dimensions\": {\"Algorithm\": \"Linear Learner\", \"Host\": \"algo-1\", \"Operation\": \"training\", \"epoch\": 3, \"model\": 7}, \"Metrics\": {\"train_absolute_loss_objective\": {\"sum\": 0.2737712383270264, \"count\": 1, \"min\": 0.2737712383270264, \"max\": 0.2737712383270264}}}\u001b[0m\n",
      "\u001b[34m#metrics {\"StartTime\": 1750347219.9075282, \"EndTime\": 1750347219.9075382, \"Dimensions\": {\"Algorithm\": \"Linear Learner\", \"Host\": \"algo-1\", \"Operation\": \"training\", \"epoch\": 3, \"model\": 8}, \"Metrics\": {\"train_absolute_loss_objective\": {\"sum\": 0.8524875640869141, \"count\": 1, \"min\": 0.8524875640869141, \"max\": 0.8524875640869141}}}\u001b[0m\n",
      "\u001b[34m#metrics {\"StartTime\": 1750347219.907573, \"EndTime\": 1750347219.9075818, \"Dimensions\": {\"Algorithm\": \"Linear Learner\", \"Host\": \"algo-1\", \"Operation\": \"training\", \"epoch\": 3, \"model\": 9}, \"Metrics\": {\"train_absolute_loss_objective\": {\"sum\": 0.7853693842887879, \"count\": 1, \"min\": 0.7853693842887879, \"max\": 0.7853693842887879}}}\u001b[0m\n",
      "\u001b[34m#metrics {\"StartTime\": 1750347219.907674, \"EndTime\": 1750347219.90769, \"Dimensions\": {\"Algorithm\": \"Linear Learner\", \"Host\": \"algo-1\", \"Operation\": \"training\", \"epoch\": 3, \"model\": 10}, \"Metrics\": {\"train_absolute_loss_objective\": {\"sum\": 0.7922881484031677, \"count\": 1, \"min\": 0.7922881484031677, \"max\": 0.7922881484031677}}}\u001b[0m\n",
      "\u001b[34m#metrics {\"StartTime\": 1750347219.9077306, \"EndTime\": 1750347219.9077404, \"Dimensions\": {\"Algorithm\": \"Linear Learner\", \"Host\": \"algo-1\", \"Operation\": \"training\", \"epoch\": 3, \"model\": 11}, \"Metrics\": {\"train_absolute_loss_objective\": {\"sum\": 0.777391767501831, \"count\": 1, \"min\": 0.777391767501831, \"max\": 0.777391767501831}}}\u001b[0m\n",
      "\u001b[34m#metrics {\"StartTime\": 1750347219.9077744, \"EndTime\": 1750347219.9077828, \"Dimensions\": {\"Algorithm\": \"Linear Learner\", \"Host\": \"algo-1\", \"Operation\": \"training\", \"epoch\": 3, \"model\": 12}, \"Metrics\": {\"train_absolute_loss_objective\": {\"sum\": 0.23387738764286042, \"count\": 1, \"min\": 0.23387738764286042, \"max\": 0.23387738764286042}}}\u001b[0m\n",
      "\u001b[34m#metrics {\"StartTime\": 1750347219.9078164, \"EndTime\": 1750347219.9078264, \"Dimensions\": {\"Algorithm\": \"Linear Learner\", \"Host\": \"algo-1\", \"Operation\": \"training\", \"epoch\": 3, \"model\": 13}, \"Metrics\": {\"train_absolute_loss_objective\": {\"sum\": 0.3068083241581917, \"count\": 1, \"min\": 0.3068083241581917, \"max\": 0.3068083241581917}}}\u001b[0m\n",
      "\u001b[34m#metrics {\"StartTime\": 1750347219.9078596, \"EndTime\": 1750347219.9078684, \"Dimensions\": {\"Algorithm\": \"Linear Learner\", \"Host\": \"algo-1\", \"Operation\": \"training\", \"epoch\": 3, \"model\": 14}, \"Metrics\": {\"train_absolute_loss_objective\": {\"sum\": 0.23464280366897583, \"count\": 1, \"min\": 0.23464280366897583, \"max\": 0.23464280366897583}}}\u001b[0m\n",
      "\u001b[34m#metrics {\"StartTime\": 1750347219.9079018, \"EndTime\": 1750347219.9079108, \"Dimensions\": {\"Algorithm\": \"Linear Learner\", \"Host\": \"algo-1\", \"Operation\": \"training\", \"epoch\": 3, \"model\": 15}, \"Metrics\": {\"train_absolute_loss_objective\": {\"sum\": 0.3048172280192375, \"count\": 1, \"min\": 0.3048172280192375, \"max\": 0.3048172280192375}}}\u001b[0m\n",
      "\u001b[34m#metrics {\"StartTime\": 1750347219.9079723, \"EndTime\": 1750347219.9079854, \"Dimensions\": {\"Algorithm\": \"Linear Learner\", \"Host\": \"algo-1\", \"Operation\": \"training\", \"epoch\": 3, \"model\": 16}, \"Metrics\": {\"train_absolute_loss_objective\": {\"sum\": 0.7627591192722321, \"count\": 1, \"min\": 0.7627591192722321, \"max\": 0.7627591192722321}}}\u001b[0m\n",
      "\u001b[34m#metrics {\"StartTime\": 1750347219.908062, \"EndTime\": 1750347219.908075, \"Dimensions\": {\"Algorithm\": \"Linear Learner\", \"Host\": \"algo-1\", \"Operation\": \"training\", \"epoch\": 3, \"model\": 17}, \"Metrics\": {\"train_absolute_loss_objective\": {\"sum\": 0.8125233173370361, \"count\": 1, \"min\": 0.8125233173370361, \"max\": 0.8125233173370361}}}\u001b[0m\n",
      "\u001b[34m#metrics {\"StartTime\": 1750347219.9081159, \"EndTime\": 1750347219.9081256, \"Dimensions\": {\"Algorithm\": \"Linear Learner\", \"Host\": \"algo-1\", \"Operation\": \"training\", \"epoch\": 3, \"model\": 18}, \"Metrics\": {\"train_absolute_loss_objective\": {\"sum\": 0.7892032861709595, \"count\": 1, \"min\": 0.7892032861709595, \"max\": 0.7892032861709595}}}\u001b[0m\n",
      "\u001b[34m#metrics {\"StartTime\": 1750347219.90816, \"EndTime\": 1750347219.9081697, \"Dimensions\": {\"Algorithm\": \"Linear Learner\", \"Host\": \"algo-1\", \"Operation\": \"training\", \"epoch\": 3, \"model\": 19}, \"Metrics\": {\"train_absolute_loss_objective\": {\"sum\": 0.7862349390983582, \"count\": 1, \"min\": 0.7862349390983582, \"max\": 0.7862349390983582}}}\u001b[0m\n",
      "\u001b[34m#metrics {\"StartTime\": 1750347219.9082024, \"EndTime\": 1750347219.9082112, \"Dimensions\": {\"Algorithm\": \"Linear Learner\", \"Host\": \"algo-1\", \"Operation\": \"training\", \"epoch\": 3, \"model\": 20}, \"Metrics\": {\"train_absolute_loss_objective\": {\"sum\": 0.2836050406098366, \"count\": 1, \"min\": 0.2836050406098366, \"max\": 0.2836050406098366}}}\u001b[0m\n",
      "\u001b[34m#metrics {\"StartTime\": 1750347219.9082456, \"EndTime\": 1750347219.9082544, \"Dimensions\": {\"Algorithm\": \"Linear Learner\", \"Host\": \"algo-1\", \"Operation\": \"training\", \"epoch\": 3, \"model\": 21}, \"Metrics\": {\"train_absolute_loss_objective\": {\"sum\": 0.36208707094192505, \"count\": 1, \"min\": 0.36208707094192505, \"max\": 0.36208707094192505}}}\u001b[0m\n",
      "\u001b[34m#metrics {\"StartTime\": 1750347219.9082882, \"EndTime\": 1750347219.9082975, \"Dimensions\": {\"Algorithm\": \"Linear Learner\", \"Host\": \"algo-1\", \"Operation\": \"training\", \"epoch\": 3, \"model\": 22}, \"Metrics\": {\"train_absolute_loss_objective\": {\"sum\": 0.3642547786235809, \"count\": 1, \"min\": 0.3642547786235809, \"max\": 0.3642547786235809}}}\u001b[0m\n",
      "\u001b[34m#metrics {\"StartTime\": 1750347219.9083242, \"EndTime\": 1750347219.9083326, \"Dimensions\": {\"Algorithm\": \"Linear Learner\", \"Host\": \"algo-1\", \"Operation\": \"training\", \"epoch\": 3, \"model\": 23}, \"Metrics\": {\"train_absolute_loss_objective\": {\"sum\": 0.3609670907258987, \"count\": 1, \"min\": 0.3609670907258987, \"max\": 0.3609670907258987}}}\u001b[0m\n",
      "\u001b[34m#metrics {\"StartTime\": 1750347219.9083645, \"EndTime\": 1750347219.9083736, \"Dimensions\": {\"Algorithm\": \"Linear Learner\", \"Host\": \"algo-1\", \"Operation\": \"training\", \"epoch\": 3, \"model\": 24}, \"Metrics\": {\"train_absolute_loss_objective\": {\"sum\": 0.8744922518730164, \"count\": 1, \"min\": 0.8744922518730164, \"max\": 0.8744922518730164}}}\u001b[0m\n",
      "\u001b[34m#metrics {\"StartTime\": 1750347219.9084067, \"EndTime\": 1750347219.9084153, \"Dimensions\": {\"Algorithm\": \"Linear Learner\", \"Host\": \"algo-1\", \"Operation\": \"training\", \"epoch\": 3, \"model\": 25}, \"Metrics\": {\"train_absolute_loss_objective\": {\"sum\": 0.8555457592010498, \"count\": 1, \"min\": 0.8555457592010498, \"max\": 0.8555457592010498}}}\u001b[0m\n",
      "\u001b[34m#metrics {\"StartTime\": 1750347219.9084485, \"EndTime\": 1750347219.908457, \"Dimensions\": {\"Algorithm\": \"Linear Learner\", \"Host\": \"algo-1\", \"Operation\": \"training\", \"epoch\": 3, \"model\": 26}, \"Metrics\": {\"train_absolute_loss_objective\": {\"sum\": 0.8639588475227356, \"count\": 1, \"min\": 0.8639588475227356, \"max\": 0.8639588475227356}}}\u001b[0m\n",
      "\u001b[34m#metrics {\"StartTime\": 1750347219.9085104, \"EndTime\": 1750347219.908521, \"Dimensions\": {\"Algorithm\": \"Linear Learner\", \"Host\": \"algo-1\", \"Operation\": \"training\", \"epoch\": 3, \"model\": 27}, \"Metrics\": {\"train_absolute_loss_objective\": {\"sum\": 0.8677721858024597, \"count\": 1, \"min\": 0.8677721858024597, \"max\": 0.8677721858024597}}}\u001b[0m\n",
      "\u001b[34m#metrics {\"StartTime\": 1750347219.908557, \"EndTime\": 1750347219.9085658, \"Dimensions\": {\"Algorithm\": \"Linear Learner\", \"Host\": \"algo-1\", \"Operation\": \"training\", \"epoch\": 3, \"model\": 28}, \"Metrics\": {\"train_absolute_loss_objective\": {\"sum\": 0.9290109992027282, \"count\": 1, \"min\": 0.9290109992027282, \"max\": 0.9290109992027282}}}\u001b[0m\n",
      "\u001b[34m#metrics {\"StartTime\": 1750347219.9086375, \"EndTime\": 1750347219.9086502, \"Dimensions\": {\"Algorithm\": \"Linear Learner\", \"Host\": \"algo-1\", \"Operation\": \"training\", \"epoch\": 3, \"model\": 29}, \"Metrics\": {\"train_absolute_loss_objective\": {\"sum\": 0.9311549663543701, \"count\": 1, \"min\": 0.9311549663543701, \"max\": 0.9311549663543701}}}\u001b[0m\n",
      "\u001b[34m#metrics {\"StartTime\": 1750347219.9087026, \"EndTime\": 1750347219.9087121, \"Dimensions\": {\"Algorithm\": \"Linear Learner\", \"Host\": \"algo-1\", \"Operation\": \"training\", \"epoch\": 3, \"model\": 30}, \"Metrics\": {\"train_absolute_loss_objective\": {\"sum\": 0.9246953308582306, \"count\": 1, \"min\": 0.9246953308582306, \"max\": 0.9246953308582306}}}\u001b[0m\n",
      "\u001b[34m#metrics {\"StartTime\": 1750347219.9087696, \"EndTime\": 1750347219.908779, \"Dimensions\": {\"Algorithm\": \"Linear Learner\", \"Host\": \"algo-1\", \"Operation\": \"training\", \"epoch\": 3, \"model\": 31}, \"Metrics\": {\"train_absolute_loss_objective\": {\"sum\": 0.9085876941680908, \"count\": 1, \"min\": 0.9085876941680908, \"max\": 0.9085876941680908}}}\u001b[0m\n",
      "\u001b[34m[06/19/2025 15:33:39 INFO 140424578860864] #quality_metric: host=algo-1, epoch=3, train absolute_loss_objective <loss>=0.7975246787071228\u001b[0m\n",
      "\u001b[34m[06/19/2025 15:33:39 INFO 140424578860864] #early_stopping_criteria_metric: host=algo-1, epoch=3, criteria=absolute_loss_objective, value=0.23387738764286042\u001b[0m\n",
      "\u001b[34m[06/19/2025 15:33:39 INFO 140424578860864] Saving model for epoch: 3\u001b[0m\n",
      "\u001b[34m[06/19/2025 15:33:39 INFO 140424578860864] Saved checkpoint to \"/tmp/tmp3g3ow5v3/mx-mod-0000.params\"\u001b[0m\n",
      "\u001b[34m[06/19/2025 15:33:39 INFO 140424578860864] #progress_metric: host=algo-1, completed 66.66666666666667 % of epochs\u001b[0m\n",
      "\u001b[34m#metrics {\"StartTime\": 1750347219.846221, \"EndTime\": 1750347219.9143558, \"Dimensions\": {\"Algorithm\": \"Linear Learner\", \"Host\": \"algo-1\", \"Operation\": \"training\", \"epoch\": 3, \"Meta\": \"training_data_iter\"}, \"Metrics\": {\"Total Records Seen\": {\"sum\": 104.0, \"count\": 1, \"min\": 104, \"max\": 104}, \"Total Batches Seen\": {\"sum\": 26.0, \"count\": 1, \"min\": 26, \"max\": 26}, \"Max Records Seen Between Resets\": {\"sum\": 20.0, \"count\": 1, \"min\": 20, \"max\": 20}, \"Max Batches Seen Between Resets\": {\"sum\": 5.0, \"count\": 1, \"min\": 5, \"max\": 5}, \"Reset Count\": {\"sum\": 6.0, \"count\": 1, \"min\": 6, \"max\": 6}, \"Number of Records Since Last Reset\": {\"sum\": 20.0, \"count\": 1, \"min\": 20, \"max\": 20}, \"Number of Batches Since Last Reset\": {\"sum\": 5.0, \"count\": 1, \"min\": 5, \"max\": 5}}}\u001b[0m\n",
      "\u001b[34m[06/19/2025 15:33:39 INFO 140424578860864] #throughput_metric: host=algo-1, train throughput=293.09174000999263 records/second\u001b[0m\n",
      "\u001b[34m[2025-06-19 15:33:39.976] [tensorio] [info] epoch_stats={\"data_pipeline\": \"/opt/ml/input/data/train\", \"epoch\": 12, \"duration\": 61, \"num_examples\": 5, \"num_bytes\": 960}\u001b[0m\n",
      "\u001b[34m#metrics {\"StartTime\": 1750347219.976558, \"EndTime\": 1750347219.9765978, \"Dimensions\": {\"Algorithm\": \"Linear Learner\", \"Host\": \"algo-1\", \"Operation\": \"training\", \"epoch\": 4, \"model\": 0}, \"Metrics\": {\"train_absolute_loss_objective\": {\"sum\": 0.7751219034194946, \"count\": 1, \"min\": 0.7751219034194946, \"max\": 0.7751219034194946}}}\u001b[0m\n",
      "\u001b[34m#metrics {\"StartTime\": 1750347219.976641, \"EndTime\": 1750347219.976649, \"Dimensions\": {\"Algorithm\": \"Linear Learner\", \"Host\": \"algo-1\", \"Operation\": \"training\", \"epoch\": 4, \"model\": 1}, \"Metrics\": {\"train_absolute_loss_objective\": {\"sum\": 0.7943236887454986, \"count\": 1, \"min\": 0.7943236887454986, \"max\": 0.7943236887454986}}}\u001b[0m\n",
      "\u001b[34m#metrics {\"StartTime\": 1750347219.9766686, \"EndTime\": 1750347219.976674, \"Dimensions\": {\"Algorithm\": \"Linear Learner\", \"Host\": \"algo-1\", \"Operation\": \"training\", \"epoch\": 4, \"model\": 2}, \"Metrics\": {\"train_absolute_loss_objective\": {\"sum\": 0.7775157392024994, \"count\": 1, \"min\": 0.7775157392024994, \"max\": 0.7775157392024994}}}\u001b[0m\n",
      "\u001b[34m#metrics {\"StartTime\": 1750347219.9766912, \"EndTime\": 1750347219.976696, \"Dimensions\": {\"Algorithm\": \"Linear Learner\", \"Host\": \"algo-1\", \"Operation\": \"training\", \"epoch\": 4, \"model\": 3}, \"Metrics\": {\"train_absolute_loss_objective\": {\"sum\": 0.7933137774467468, \"count\": 1, \"min\": 0.7933137774467468, \"max\": 0.7933137774467468}}}\u001b[0m\n",
      "\u001b[34m#metrics {\"StartTime\": 1750347219.976712, \"EndTime\": 1750347219.9767165, \"Dimensions\": {\"Algorithm\": \"Linear Learner\", \"Host\": \"algo-1\", \"Operation\": \"training\", \"epoch\": 4, \"model\": 4}, \"Metrics\": {\"train_absolute_loss_objective\": {\"sum\": 0.30352144241333007, \"count\": 1, \"min\": 0.30352144241333007, \"max\": 0.30352144241333007}}}\u001b[0m\n",
      "\u001b[34m#metrics {\"StartTime\": 1750347219.976732, \"EndTime\": 1750347219.9767363, \"Dimensions\": {\"Algorithm\": \"Linear Learner\", \"Host\": \"algo-1\", \"Operation\": \"training\", \"epoch\": 4, \"model\": 5}, \"Metrics\": {\"train_absolute_loss_objective\": {\"sum\": 0.3112990975379944, \"count\": 1, \"min\": 0.3112990975379944, \"max\": 0.3112990975379944}}}\u001b[0m\n",
      "\u001b[34m#metrics {\"StartTime\": 1750347219.9767509, \"EndTime\": 1750347219.9767551, \"Dimensions\": {\"Algorithm\": \"Linear Learner\", \"Host\": \"algo-1\", \"Operation\": \"training\", \"epoch\": 4, \"model\": 6}, \"Metrics\": {\"train_absolute_loss_objective\": {\"sum\": 0.316244575381279, \"count\": 1, \"min\": 0.316244575381279, \"max\": 0.316244575381279}}}\u001b[0m\n",
      "\u001b[34m#metrics {\"StartTime\": 1750347219.9767694, \"EndTime\": 1750347219.976774, \"Dimensions\": {\"Algorithm\": \"Linear Learner\", \"Host\": \"algo-1\", \"Operation\": \"training\", \"epoch\": 4, \"model\": 7}, \"Metrics\": {\"train_absolute_loss_objective\": {\"sum\": 0.33801779747009275, \"count\": 1, \"min\": 0.33801779747009275, \"max\": 0.33801779747009275}}}\u001b[0m\n",
      "\u001b[34m#metrics {\"StartTime\": 1750347219.9767885, \"EndTime\": 1750347219.9767928, \"Dimensions\": {\"Algorithm\": \"Linear Learner\", \"Host\": \"algo-1\", \"Operation\": \"training\", \"epoch\": 4, \"model\": 8}, \"Metrics\": {\"train_absolute_loss_objective\": {\"sum\": 0.8306137442588806, \"count\": 1, \"min\": 0.8306137442588806, \"max\": 0.8306137442588806}}}\u001b[0m\n",
      "\u001b[34m#metrics {\"StartTime\": 1750347219.976807, \"EndTime\": 1750347219.9768112, \"Dimensions\": {\"Algorithm\": \"Linear Learner\", \"Host\": \"algo-1\", \"Operation\": \"training\", \"epoch\": 4, \"model\": 9}, \"Metrics\": {\"train_absolute_loss_objective\": {\"sum\": 0.7626311719417572, \"count\": 1, \"min\": 0.7626311719417572, \"max\": 0.7626311719417572}}}\u001b[0m\n",
      "\u001b[34m#metrics {\"StartTime\": 1750347219.976826, \"EndTime\": 1750347219.97683, \"Dimensions\": {\"Algorithm\": \"Linear Learner\", \"Host\": \"algo-1\", \"Operation\": \"training\", \"epoch\": 4, \"model\": 10}, \"Metrics\": {\"train_absolute_loss_objective\": {\"sum\": 0.7698399662971497, \"count\": 1, \"min\": 0.7698399662971497, \"max\": 0.7698399662971497}}}\u001b[0m\n",
      "\u001b[34m#metrics {\"StartTime\": 1750347219.9768443, \"EndTime\": 1750347219.9768486, \"Dimensions\": {\"Algorithm\": \"Linear Learner\", \"Host\": \"algo-1\", \"Operation\": \"training\", \"epoch\": 4, \"model\": 11}, \"Metrics\": {\"train_absolute_loss_objective\": {\"sum\": 0.7545774638652801, \"count\": 1, \"min\": 0.7545774638652801, \"max\": 0.7545774638652801}}}\u001b[0m\n",
      "\u001b[34m#metrics {\"StartTime\": 1750347219.9768648, \"EndTime\": 1750347219.9768689, \"Dimensions\": {\"Algorithm\": \"Linear Learner\", \"Host\": \"algo-1\", \"Operation\": \"training\", \"epoch\": 4, \"model\": 12}, \"Metrics\": {\"train_absolute_loss_objective\": {\"sum\": 0.30569865703582766, \"count\": 1, \"min\": 0.30569865703582766, \"max\": 0.30569865703582766}}}\u001b[0m\n",
      "\u001b[34m#metrics {\"StartTime\": 1750347219.9768834, \"EndTime\": 1750347219.9768877, \"Dimensions\": {\"Algorithm\": \"Linear Learner\", \"Host\": \"algo-1\", \"Operation\": \"training\", \"epoch\": 4, \"model\": 13}, \"Metrics\": {\"train_absolute_loss_objective\": {\"sum\": 0.33281695246696474, \"count\": 1, \"min\": 0.33281695246696474, \"max\": 0.33281695246696474}}}\u001b[0m\n",
      "\u001b[34m#metrics {\"StartTime\": 1750347219.9769018, \"EndTime\": 1750347219.9769063, \"Dimensions\": {\"Algorithm\": \"Linear Learner\", \"Host\": \"algo-1\", \"Operation\": \"training\", \"epoch\": 4, \"model\": 14}, \"Metrics\": {\"train_absolute_loss_objective\": {\"sum\": 0.306301474571228, \"count\": 1, \"min\": 0.306301474571228, \"max\": 0.306301474571228}}}\u001b[0m\n",
      "\u001b[34m#metrics {\"StartTime\": 1750347219.9769206, \"EndTime\": 1750347219.9769247, \"Dimensions\": {\"Algorithm\": \"Linear Learner\", \"Host\": \"algo-1\", \"Operation\": \"training\", \"epoch\": 4, \"model\": 15}, \"Metrics\": {\"train_absolute_loss_objective\": {\"sum\": 0.3292162179946899, \"count\": 1, \"min\": 0.3292162179946899, \"max\": 0.3292162179946899}}}\u001b[0m\n",
      "\u001b[34m#metrics {\"StartTime\": 1750347219.9769387, \"EndTime\": 1750347219.9769428, \"Dimensions\": {\"Algorithm\": \"Linear Learner\", \"Host\": \"algo-1\", \"Operation\": \"training\", \"epoch\": 4, \"model\": 16}, \"Metrics\": {\"train_absolute_loss_objective\": {\"sum\": 0.740627896785736, \"count\": 1, \"min\": 0.740627896785736, \"max\": 0.740627896785736}}}\u001b[0m\n",
      "\u001b[34m#metrics {\"StartTime\": 1750347219.9769568, \"EndTime\": 1750347219.9769611, \"Dimensions\": {\"Algorithm\": \"Linear Learner\", \"Host\": \"algo-1\", \"Operation\": \"training\", \"epoch\": 4, \"model\": 17}, \"Metrics\": {\"train_absolute_loss_objective\": {\"sum\": 0.7905097782611847, \"count\": 1, \"min\": 0.7905097782611847, \"max\": 0.7905097782611847}}}\u001b[0m\n",
      "\u001b[34m#metrics {\"StartTime\": 1750347219.9769754, \"EndTime\": 1750347219.9769795, \"Dimensions\": {\"Algorithm\": \"Linear Learner\", \"Host\": \"algo-1\", \"Operation\": \"training\", \"epoch\": 4, \"model\": 18}, \"Metrics\": {\"train_absolute_loss_objective\": {\"sum\": 0.7672458291053772, \"count\": 1, \"min\": 0.7672458291053772, \"max\": 0.7672458291053772}}}\u001b[0m\n",
      "\u001b[34m#metrics {\"StartTime\": 1750347219.9769936, \"EndTime\": 1750347219.9769976, \"Dimensions\": {\"Algorithm\": \"Linear Learner\", \"Host\": \"algo-1\", \"Operation\": \"training\", \"epoch\": 4, \"model\": 19}, \"Metrics\": {\"train_absolute_loss_objective\": {\"sum\": 0.7640429735183716, \"count\": 1, \"min\": 0.7640429735183716, \"max\": 0.7640429735183716}}}\u001b[0m\n",
      "\u001b[34m#metrics {\"StartTime\": 1750347219.977012, \"EndTime\": 1750347219.977016, \"Dimensions\": {\"Algorithm\": \"Linear Learner\", \"Host\": \"algo-1\", \"Operation\": \"training\", \"epoch\": 4, \"model\": 20}, \"Metrics\": {\"train_absolute_loss_objective\": {\"sum\": 0.4289556622505188, \"count\": 1, \"min\": 0.4289556622505188, \"max\": 0.4289556622505188}}}\u001b[0m\n",
      "\u001b[34m#metrics {\"StartTime\": 1750347219.97703, \"EndTime\": 1750347219.9770343, \"Dimensions\": {\"Algorithm\": \"Linear Learner\", \"Host\": \"algo-1\", \"Operation\": \"training\", \"epoch\": 4, \"model\": 21}, \"Metrics\": {\"train_absolute_loss_objective\": {\"sum\": 0.37472969591617583, \"count\": 1, \"min\": 0.37472969591617583, \"max\": 0.37472969591617583}}}\u001b[0m\n",
      "\u001b[34m#metrics {\"StartTime\": 1750347219.9770565, \"EndTime\": 1750347219.9770632, \"Dimensions\": {\"Algorithm\": \"Linear Learner\", \"Host\": \"algo-1\", \"Operation\": \"training\", \"epoch\": 4, \"model\": 22}, \"Metrics\": {\"train_absolute_loss_objective\": {\"sum\": 0.49680944085121154, \"count\": 1, \"min\": 0.49680944085121154, \"max\": 0.49680944085121154}}}\u001b[0m\n",
      "\u001b[34m#metrics {\"StartTime\": 1750347219.9770837, \"EndTime\": 1750347219.9770887, \"Dimensions\": {\"Algorithm\": \"Linear Learner\", \"Host\": \"algo-1\", \"Operation\": \"training\", \"epoch\": 4, \"model\": 23}, \"Metrics\": {\"train_absolute_loss_objective\": {\"sum\": 0.3636128008365631, \"count\": 1, \"min\": 0.3636128008365631, \"max\": 0.3636128008365631}}}\u001b[0m\n",
      "\u001b[34m#metrics {\"StartTime\": 1750347219.9771044, \"EndTime\": 1750347219.9771087, \"Dimensions\": {\"Algorithm\": \"Linear Learner\", \"Host\": \"algo-1\", \"Operation\": \"training\", \"epoch\": 4, \"model\": 24}, \"Metrics\": {\"train_absolute_loss_objective\": {\"sum\": 0.8762789487838745, \"count\": 1, \"min\": 0.8762789487838745, \"max\": 0.8762789487838745}}}\u001b[0m\n",
      "\u001b[34m#metrics {\"StartTime\": 1750347219.9771233, \"EndTime\": 1750347219.9771273, \"Dimensions\": {\"Algorithm\": \"Linear Learner\", \"Host\": \"algo-1\", \"Operation\": \"training\", \"epoch\": 4, \"model\": 25}, \"Metrics\": {\"train_absolute_loss_objective\": {\"sum\": 0.8586851358413696, \"count\": 1, \"min\": 0.8586851358413696, \"max\": 0.8586851358413696}}}\u001b[0m\n",
      "\u001b[34m#metrics {\"StartTime\": 1750347219.9771419, \"EndTime\": 1750347219.9771461, \"Dimensions\": {\"Algorithm\": \"Linear Learner\", \"Host\": \"algo-1\", \"Operation\": \"training\", \"epoch\": 4, \"model\": 26}, \"Metrics\": {\"train_absolute_loss_objective\": {\"sum\": 0.8681554555892944, \"count\": 1, \"min\": 0.8681554555892944, \"max\": 0.8681554555892944}}}\u001b[0m\n",
      "\u001b[34m#metrics {\"StartTime\": 1750347219.9771695, \"EndTime\": 1750347219.9771743, \"Dimensions\": {\"Algorithm\": \"Linear Learner\", \"Host\": \"algo-1\", \"Operation\": \"training\", \"epoch\": 4, \"model\": 27}, \"Metrics\": {\"train_absolute_loss_objective\": {\"sum\": 0.8632851958274841, \"count\": 1, \"min\": 0.8632851958274841, \"max\": 0.8632851958274841}}}\u001b[0m\n",
      "\u001b[34m#metrics {\"StartTime\": 1750347219.9771955, \"EndTime\": 1750347219.9772022, \"Dimensions\": {\"Algorithm\": \"Linear Learner\", \"Host\": \"algo-1\", \"Operation\": \"training\", \"epoch\": 4, \"model\": 28}, \"Metrics\": {\"train_absolute_loss_objective\": {\"sum\": 0.8916438102722168, \"count\": 1, \"min\": 0.8916438102722168, \"max\": 0.8916438102722168}}}\u001b[0m\n",
      "\u001b[34m#metrics {\"StartTime\": 1750347219.9772203, \"EndTime\": 1750347219.9772274, \"Dimensions\": {\"Algorithm\": \"Linear Learner\", \"Host\": \"algo-1\", \"Operation\": \"training\", \"epoch\": 4, \"model\": 29}, \"Metrics\": {\"train_absolute_loss_objective\": {\"sum\": 0.8926169276237488, \"count\": 1, \"min\": 0.8926169276237488, \"max\": 0.8926169276237488}}}\u001b[0m\n",
      "\u001b[34m#metrics {\"StartTime\": 1750347219.9772432, \"EndTime\": 1750347219.9772484, \"Dimensions\": {\"Algorithm\": \"Linear Learner\", \"Host\": \"algo-1\", \"Operation\": \"training\", \"epoch\": 4, \"model\": 30}, \"Metrics\": {\"train_absolute_loss_objective\": {\"sum\": 0.8919175386428833, \"count\": 1, \"min\": 0.8919175386428833, \"max\": 0.8919175386428833}}}\u001b[0m\n",
      "\u001b[34m#metrics {\"StartTime\": 1750347219.9772694, \"EndTime\": 1750347219.9772744, \"Dimensions\": {\"Algorithm\": \"Linear Learner\", \"Host\": \"algo-1\", \"Operation\": \"training\", \"epoch\": 4, \"model\": 31}, \"Metrics\": {\"train_absolute_loss_objective\": {\"sum\": 0.9156023263931274, \"count\": 1, \"min\": 0.9156023263931274, \"max\": 0.9156023263931274}}}\u001b[0m\n",
      "\u001b[34m[06/19/2025 15:33:39 INFO 140424578860864] #quality_metric: host=algo-1, epoch=4, train absolute_loss_objective <loss>=0.7751219034194946\u001b[0m\n",
      "\u001b[34m[06/19/2025 15:33:39 INFO 140424578860864] #early_stopping_criteria_metric: host=algo-1, epoch=4, criteria=absolute_loss_objective, value=0.30352144241333007\u001b[0m\n",
      "\u001b[34m[06/19/2025 15:33:39 INFO 140424578860864] Saving model for epoch: 4\u001b[0m\n",
      "\u001b[34m[06/19/2025 15:33:39 INFO 140424578860864] Saved checkpoint to \"/tmp/tmphjpr5m1g/mx-mod-0000.params\"\u001b[0m\n",
      "\u001b[34m[06/19/2025 15:33:39 INFO 140424578860864] #progress_metric: host=algo-1, completed 83.33333333333333 % of epochs\u001b[0m\n",
      "\u001b[34m#metrics {\"StartTime\": 1750347219.9145691, \"EndTime\": 1750347219.9828594, \"Dimensions\": {\"Algorithm\": \"Linear Learner\", \"Host\": \"algo-1\", \"Operation\": \"training\", \"epoch\": 4, \"Meta\": \"training_data_iter\"}, \"Metrics\": {\"Total Records Seen\": {\"sum\": 124.0, \"count\": 1, \"min\": 124, \"max\": 124}, \"Total Batches Seen\": {\"sum\": 31.0, \"count\": 1, \"min\": 31, \"max\": 31}, \"Max Records Seen Between Resets\": {\"sum\": 20.0, \"count\": 1, \"min\": 20, \"max\": 20}, \"Max Batches Seen Between Resets\": {\"sum\": 5.0, \"count\": 1, \"min\": 5, \"max\": 5}, \"Reset Count\": {\"sum\": 7.0, \"count\": 1, \"min\": 7, \"max\": 7}, \"Number of Records Since Last Reset\": {\"sum\": 20.0, \"count\": 1, \"min\": 20, \"max\": 20}, \"Number of Batches Since Last Reset\": {\"sum\": 5.0, \"count\": 1, \"min\": 5, \"max\": 5}}}\u001b[0m\n",
      "\u001b[34m[06/19/2025 15:33:39 INFO 140424578860864] #throughput_metric: host=algo-1, train throughput=292.4296605649465 records/second\u001b[0m\n",
      "\u001b[34m[2025-06-19 15:33:40.043] [tensorio] [info] epoch_stats={\"data_pipeline\": \"/opt/ml/input/data/train\", \"epoch\": 14, \"duration\": 60, \"num_examples\": 5, \"num_bytes\": 960}\u001b[0m\n",
      "\u001b[34m#metrics {\"StartTime\": 1750347220.0435429, \"EndTime\": 1750347220.043607, \"Dimensions\": {\"Algorithm\": \"Linear Learner\", \"Host\": \"algo-1\", \"Operation\": \"training\", \"epoch\": 5, \"model\": 0}, \"Metrics\": {\"train_absolute_loss_objective\": {\"sum\": 0.7546935141086578, \"count\": 1, \"min\": 0.7546935141086578, \"max\": 0.7546935141086578}}}\u001b[0m\n",
      "\u001b[34m#metrics {\"StartTime\": 1750347220.0437279, \"EndTime\": 1750347220.0437462, \"Dimensions\": {\"Algorithm\": \"Linear Learner\", \"Host\": \"algo-1\", \"Operation\": \"training\", \"epoch\": 5, \"model\": 1}, \"Metrics\": {\"train_absolute_loss_objective\": {\"sum\": 0.7734805464744567, \"count\": 1, \"min\": 0.7734805464744567, \"max\": 0.7734805464744567}}}\u001b[0m\n",
      "\u001b[34m#metrics {\"StartTime\": 1750347220.0438144, \"EndTime\": 1750347220.0438266, \"Dimensions\": {\"Algorithm\": \"Linear Learner\", \"Host\": \"algo-1\", \"Operation\": \"training\", \"epoch\": 5, \"model\": 2}, \"Metrics\": {\"train_absolute_loss_objective\": {\"sum\": 0.7570873975753785, \"count\": 1, \"min\": 0.7570873975753785, \"max\": 0.7570873975753785}}}\u001b[0m\n",
      "\u001b[34m#metrics {\"StartTime\": 1750347220.0439003, \"EndTime\": 1750347220.0439146, \"Dimensions\": {\"Algorithm\": \"Linear Learner\", \"Host\": \"algo-1\", \"Operation\": \"training\", \"epoch\": 5, \"model\": 3}, \"Metrics\": {\"train_absolute_loss_objective\": {\"sum\": 0.7724706172943115, \"count\": 1, \"min\": 0.7724706172943115, \"max\": 0.7724706172943115}}}\u001b[0m\n",
      "\u001b[34m#metrics {\"StartTime\": 1750347220.0439765, \"EndTime\": 1750347220.0439873, \"Dimensions\": {\"Algorithm\": \"Linear Learner\", \"Host\": \"algo-1\", \"Operation\": \"training\", \"epoch\": 5, \"model\": 4}, \"Metrics\": {\"train_absolute_loss_objective\": {\"sum\": 0.21298251450061798, \"count\": 1, \"min\": 0.21298251450061798, \"max\": 0.21298251450061798}}}\u001b[0m\n",
      "\u001b[34m#metrics {\"StartTime\": 1750347220.044038, \"EndTime\": 1750347220.0440452, \"Dimensions\": {\"Algorithm\": \"Linear Learner\", \"Host\": \"algo-1\", \"Operation\": \"training\", \"epoch\": 5, \"model\": 5}, \"Metrics\": {\"train_absolute_loss_objective\": {\"sum\": 0.20271813869476318, \"count\": 1, \"min\": 0.20271813869476318, \"max\": 0.20271813869476318}}}\u001b[0m\n",
      "\u001b[34m#metrics {\"StartTime\": 1750347220.044083, \"EndTime\": 1750347220.044089, \"Dimensions\": {\"Algorithm\": \"Linear Learner\", \"Host\": \"algo-1\", \"Operation\": \"training\", \"epoch\": 5, \"model\": 6}, \"Metrics\": {\"train_absolute_loss_objective\": {\"sum\": 0.2009858101606369, \"count\": 1, \"min\": 0.2009858101606369, \"max\": 0.2009858101606369}}}\u001b[0m\n",
      "\u001b[34m#metrics {\"StartTime\": 1750347220.0441217, \"EndTime\": 1750347220.0441272, \"Dimensions\": {\"Algorithm\": \"Linear Learner\", \"Host\": \"algo-1\", \"Operation\": \"training\", \"epoch\": 5, \"model\": 7}, \"Metrics\": {\"train_absolute_loss_objective\": {\"sum\": 0.19803832471370697, \"count\": 1, \"min\": 0.19803832471370697, \"max\": 0.19803832471370697}}}\u001b[0m\n",
      "\u001b[34m#metrics {\"StartTime\": 1750347220.0441594, \"EndTime\": 1750347220.0441647, \"Dimensions\": {\"Algorithm\": \"Linear Learner\", \"Host\": \"algo-1\", \"Operation\": \"training\", \"epoch\": 5, \"model\": 8}, \"Metrics\": {\"train_absolute_loss_objective\": {\"sum\": 0.8101909279823303, \"count\": 1, \"min\": 0.8101909279823303, \"max\": 0.8101909279823303}}}\u001b[0m\n",
      "\u001b[34m#metrics {\"StartTime\": 1750347220.0441968, \"EndTime\": 1750347220.0442016, \"Dimensions\": {\"Algorithm\": \"Linear Learner\", \"Host\": \"algo-1\", \"Operation\": \"training\", \"epoch\": 5, \"model\": 9}, \"Metrics\": {\"train_absolute_loss_objective\": {\"sum\": 0.7417949557304382, \"count\": 1, \"min\": 0.7417949557304382, \"max\": 0.7417949557304382}}}\u001b[0m\n",
      "\u001b[34m#metrics {\"StartTime\": 1750347220.0442336, \"EndTime\": 1750347220.0442386, \"Dimensions\": {\"Algorithm\": \"Linear Learner\", \"Host\": \"algo-1\", \"Operation\": \"training\", \"epoch\": 5, \"model\": 10}, \"Metrics\": {\"train_absolute_loss_objective\": {\"sum\": 0.7494182229042053, \"count\": 1, \"min\": 0.7494182229042053, \"max\": 0.7494182229042053}}}\u001b[0m\n",
      "\u001b[34m#metrics {\"StartTime\": 1750347220.0442703, \"EndTime\": 1750347220.0442753, \"Dimensions\": {\"Algorithm\": \"Linear Learner\", \"Host\": \"algo-1\", \"Operation\": \"training\", \"epoch\": 5, \"model\": 11}, \"Metrics\": {\"train_absolute_loss_objective\": {\"sum\": 0.7337413787841797, \"count\": 1, \"min\": 0.7337413787841797, \"max\": 0.7337413787841797}}}\u001b[0m\n",
      "\u001b[34m#metrics {\"StartTime\": 1750347220.044307, \"EndTime\": 1750347220.0443118, \"Dimensions\": {\"Algorithm\": \"Linear Learner\", \"Host\": \"algo-1\", \"Operation\": \"training\", \"epoch\": 5, \"model\": 12}, \"Metrics\": {\"train_absolute_loss_objective\": {\"sum\": 0.1915251538157463, \"count\": 1, \"min\": 0.1915251538157463, \"max\": 0.1915251538157463}}}\u001b[0m\n",
      "\u001b[34m#metrics {\"StartTime\": 1750347220.0443432, \"EndTime\": 1750347220.0443485, \"Dimensions\": {\"Algorithm\": \"Linear Learner\", \"Host\": \"algo-1\", \"Operation\": \"training\", \"epoch\": 5, \"model\": 13}, \"Metrics\": {\"train_absolute_loss_objective\": {\"sum\": 0.22532859742641448, \"count\": 1, \"min\": 0.22532859742641448, \"max\": 0.22532859742641448}}}\u001b[0m\n",
      "\u001b[34m#metrics {\"StartTime\": 1750347220.04438, \"EndTime\": 1750347220.0443847, \"Dimensions\": {\"Algorithm\": \"Linear Learner\", \"Host\": \"algo-1\", \"Operation\": \"training\", \"epoch\": 5, \"model\": 14}, \"Metrics\": {\"train_absolute_loss_objective\": {\"sum\": 0.19138944298028945, \"count\": 1, \"min\": 0.19138944298028945, \"max\": 0.19138944298028945}}}\u001b[0m\n",
      "\u001b[34m#metrics {\"StartTime\": 1750347220.0444167, \"EndTime\": 1750347220.0444217, \"Dimensions\": {\"Algorithm\": \"Linear Learner\", \"Host\": \"algo-1\", \"Operation\": \"training\", \"epoch\": 5, \"model\": 15}, \"Metrics\": {\"train_absolute_loss_objective\": {\"sum\": 0.2243984431028366, \"count\": 1, \"min\": 0.2243984431028366, \"max\": 0.2243984431028366}}}\u001b[0m\n",
      "\u001b[34m#metrics {\"StartTime\": 1750347220.0444534, \"EndTime\": 1750347220.0444584, \"Dimensions\": {\"Algorithm\": \"Linear Learner\", \"Host\": \"algo-1\", \"Operation\": \"training\", \"epoch\": 5, \"model\": 16}, \"Metrics\": {\"train_absolute_loss_objective\": {\"sum\": 0.7210337519645691, \"count\": 1, \"min\": 0.7210337519645691, \"max\": 0.7210337519645691}}}\u001b[0m\n",
      "\u001b[34m#metrics {\"StartTime\": 1750347220.044493, \"EndTime\": 1750347220.0444982, \"Dimensions\": {\"Algorithm\": \"Linear Learner\", \"Host\": \"algo-1\", \"Operation\": \"training\", \"epoch\": 5, \"model\": 17}, \"Metrics\": {\"train_absolute_loss_objective\": {\"sum\": 0.7703639209270478, \"count\": 1, \"min\": 0.7703639209270478, \"max\": 0.7703639209270478}}}\u001b[0m\n",
      "\u001b[34m#metrics {\"StartTime\": 1750347220.0445411, \"EndTime\": 1750347220.0445497, \"Dimensions\": {\"Algorithm\": \"Linear Learner\", \"Host\": \"algo-1\", \"Operation\": \"training\", \"epoch\": 5, \"model\": 18}, \"Metrics\": {\"train_absolute_loss_objective\": {\"sum\": 0.7475654363632203, \"count\": 1, \"min\": 0.7475654363632203, \"max\": 0.7475654363632203}}}\u001b[0m\n",
      "\u001b[34m#metrics {\"StartTime\": 1750347220.0446048, \"EndTime\": 1750347220.0446138, \"Dimensions\": {\"Algorithm\": \"Linear Learner\", \"Host\": \"algo-1\", \"Operation\": \"training\", \"epoch\": 5, \"model\": 19}, \"Metrics\": {\"train_absolute_loss_objective\": {\"sum\": 0.7439773321151734, \"count\": 1, \"min\": 0.7439773321151734, \"max\": 0.7439773321151734}}}\u001b[0m\n",
      "\u001b[34m#metrics {\"StartTime\": 1750347220.0446663, \"EndTime\": 1750347220.044676, \"Dimensions\": {\"Algorithm\": \"Linear Learner\", \"Host\": \"algo-1\", \"Operation\": \"training\", \"epoch\": 5, \"model\": 20}, \"Metrics\": {\"train_absolute_loss_objective\": {\"sum\": 0.4300800859928131, \"count\": 1, \"min\": 0.4300800859928131, \"max\": 0.4300800859928131}}}\u001b[0m\n",
      "\u001b[34m#metrics {\"StartTime\": 1750347220.0447319, \"EndTime\": 1750347220.0447412, \"Dimensions\": {\"Algorithm\": \"Linear Learner\", \"Host\": \"algo-1\", \"Operation\": \"training\", \"epoch\": 5, \"model\": 21}, \"Metrics\": {\"train_absolute_loss_objective\": {\"sum\": 0.45892952382564545, \"count\": 1, \"min\": 0.45892952382564545, \"max\": 0.45892952382564545}}}\u001b[0m\n",
      "\u001b[34m#metrics {\"StartTime\": 1750347220.0447927, \"EndTime\": 1750347220.0448027, \"Dimensions\": {\"Algorithm\": \"Linear Learner\", \"Host\": \"algo-1\", \"Operation\": \"training\", \"epoch\": 5, \"model\": 22}, \"Metrics\": {\"train_absolute_loss_objective\": {\"sum\": 0.4908764660358429, \"count\": 1, \"min\": 0.4908764660358429, \"max\": 0.4908764660358429}}}\u001b[0m\n",
      "\u001b[34m#metrics {\"StartTime\": 1750347220.0448563, \"EndTime\": 1750347220.0448663, \"Dimensions\": {\"Algorithm\": \"Linear Learner\", \"Host\": \"algo-1\", \"Operation\": \"training\", \"epoch\": 5, \"model\": 23}, \"Metrics\": {\"train_absolute_loss_objective\": {\"sum\": 0.44911482334136965, \"count\": 1, \"min\": 0.44911482334136965, \"max\": 0.44911482334136965}}}\u001b[0m\n",
      "\u001b[34m#metrics {\"StartTime\": 1750347220.0449197, \"EndTime\": 1750347220.0449295, \"Dimensions\": {\"Algorithm\": \"Linear Learner\", \"Host\": \"algo-1\", \"Operation\": \"training\", \"epoch\": 5, \"model\": 24}, \"Metrics\": {\"train_absolute_loss_objective\": {\"sum\": 0.8731300354003906, \"count\": 1, \"min\": 0.8731300354003906, \"max\": 0.8731300354003906}}}\u001b[0m\n",
      "\u001b[34m#metrics {\"StartTime\": 1750347220.0449817, \"EndTime\": 1750347220.0449927, \"Dimensions\": {\"Algorithm\": \"Linear Learner\", \"Host\": \"algo-1\", \"Operation\": \"training\", \"epoch\": 5, \"model\": 25}, \"Metrics\": {\"train_absolute_loss_objective\": {\"sum\": 0.8650513172149659, \"count\": 1, \"min\": 0.8650513172149659, \"max\": 0.8650513172149659}}}\u001b[0m\n",
      "\u001b[34m#metrics {\"StartTime\": 1750347220.045057, \"EndTime\": 1750347220.0450685, \"Dimensions\": {\"Algorithm\": \"Linear Learner\", \"Host\": \"algo-1\", \"Operation\": \"training\", \"epoch\": 5, \"model\": 26}, \"Metrics\": {\"train_absolute_loss_objective\": {\"sum\": 0.8678242444992066, \"count\": 1, \"min\": 0.8678242444992066, \"max\": 0.8678242444992066}}}\u001b[0m\n",
      "\u001b[34m#metrics {\"StartTime\": 1750347220.0451238, \"EndTime\": 1750347220.0451338, \"Dimensions\": {\"Algorithm\": \"Linear Learner\", \"Host\": \"algo-1\", \"Operation\": \"training\", \"epoch\": 5, \"model\": 27}, \"Metrics\": {\"train_absolute_loss_objective\": {\"sum\": 0.8638119578361512, \"count\": 1, \"min\": 0.8638119578361512, \"max\": 0.8638119578361512}}}\u001b[0m\n",
      "\u001b[34m#metrics {\"StartTime\": 1750347220.045204, \"EndTime\": 1750347220.0452158, \"Dimensions\": {\"Algorithm\": \"Linear Learner\", \"Host\": \"algo-1\", \"Operation\": \"training\", \"epoch\": 5, \"model\": 28}, \"Metrics\": {\"train_absolute_loss_objective\": {\"sum\": 0.9219314217567444, \"count\": 1, \"min\": 0.9219314217567444, \"max\": 0.9219314217567444}}}\u001b[0m\n",
      "\u001b[34m#metrics {\"StartTime\": 1750347220.0452738, \"EndTime\": 1750347220.0452838, \"Dimensions\": {\"Algorithm\": \"Linear Learner\", \"Host\": \"algo-1\", \"Operation\": \"training\", \"epoch\": 5, \"model\": 29}, \"Metrics\": {\"train_absolute_loss_objective\": {\"sum\": 0.9231510758399963, \"count\": 1, \"min\": 0.9231510758399963, \"max\": 0.9231510758399963}}}\u001b[0m\n",
      "\u001b[34m#metrics {\"StartTime\": 1750347220.0453374, \"EndTime\": 1750347220.045347, \"Dimensions\": {\"Algorithm\": \"Linear Learner\", \"Host\": \"algo-1\", \"Operation\": \"training\", \"epoch\": 5, \"model\": 30}, \"Metrics\": {\"train_absolute_loss_objective\": {\"sum\": 0.9249051809310913, \"count\": 1, \"min\": 0.9249051809310913, \"max\": 0.9249051809310913}}}\u001b[0m\n",
      "\u001b[34m#metrics {\"StartTime\": 1750347220.045406, \"EndTime\": 1750347220.045416, \"Dimensions\": {\"Algorithm\": \"Linear Learner\", \"Host\": \"algo-1\", \"Operation\": \"training\", \"epoch\": 5, \"model\": 31}, \"Metrics\": {\"train_absolute_loss_objective\": {\"sum\": 0.9036309957504273, \"count\": 1, \"min\": 0.9036309957504273, \"max\": 0.9036309957504273}}}\u001b[0m\n",
      "\u001b[34m[06/19/2025 15:33:40 INFO 140424578860864] #quality_metric: host=algo-1, epoch=5, train absolute_loss_objective <loss>=0.7546935141086578\u001b[0m\n",
      "\u001b[34m[06/19/2025 15:33:40 INFO 140424578860864] #early_stopping_criteria_metric: host=algo-1, epoch=5, criteria=absolute_loss_objective, value=0.19138944298028945\u001b[0m\n",
      "\u001b[34m[06/19/2025 15:33:40 INFO 140424578860864] Saving model for epoch: 5\u001b[0m\n",
      "\u001b[34m[06/19/2025 15:33:40 INFO 140424578860864] Saved checkpoint to \"/tmp/tmphd3y7sis/mx-mod-0000.params\"\u001b[0m\n",
      "\u001b[34m[06/19/2025 15:33:40 INFO 140424578860864] #progress_metric: host=algo-1, completed 100.0 % of epochs\u001b[0m\n",
      "\u001b[34m#metrics {\"StartTime\": 1750347219.9830725, \"EndTime\": 1750347220.0525148, \"Dimensions\": {\"Algorithm\": \"Linear Learner\", \"Host\": \"algo-1\", \"Operation\": \"training\", \"epoch\": 5, \"Meta\": \"training_data_iter\"}, \"Metrics\": {\"Total Records Seen\": {\"sum\": 144.0, \"count\": 1, \"min\": 144, \"max\": 144}, \"Total Batches Seen\": {\"sum\": 36.0, \"count\": 1, \"min\": 36, \"max\": 36}, \"Max Records Seen Between Resets\": {\"sum\": 20.0, \"count\": 1, \"min\": 20, \"max\": 20}, \"Max Batches Seen Between Resets\": {\"sum\": 5.0, \"count\": 1, \"min\": 5, \"max\": 5}, \"Reset Count\": {\"sum\": 8.0, \"count\": 1, \"min\": 8, \"max\": 8}, \"Number of Records Since Last Reset\": {\"sum\": 20.0, \"count\": 1, \"min\": 20, \"max\": 20}, \"Number of Batches Since Last Reset\": {\"sum\": 5.0, \"count\": 1, \"min\": 5, \"max\": 5}}}\u001b[0m\n",
      "\u001b[34m[06/19/2025 15:33:40 INFO 140424578860864] #throughput_metric: host=algo-1, train throughput=287.5765512512856 records/second\u001b[0m\n",
      "\u001b[34m[06/19/2025 15:33:40 WARNING 140424578860864] wait_for_all_workers will not sync workers since the kv store is not running distributed\u001b[0m\n",
      "\u001b[34m[06/19/2025 15:33:40 WARNING 140424578860864] wait_for_all_workers will not sync workers since the kv store is not running distributed\u001b[0m\n",
      "\u001b[34m[2025-06-19 15:33:40.053] [tensorio] [info] epoch_stats={\"data_pipeline\": \"/opt/ml/input/data/train\", \"epoch\": 16, \"duration\": 0, \"num_examples\": 1, \"num_bytes\": 192}\u001b[0m\n",
      "\u001b[34m[2025-06-19 15:33:40.060] [tensorio] [info] epoch_stats={\"data_pipeline\": \"/opt/ml/input/data/train\", \"epoch\": 18, \"duration\": 5, \"num_examples\": 5, \"num_bytes\": 960}\u001b[0m\n",
      "\u001b[34m[06/19/2025 15:33:40 INFO 140424578860864] #train_score (algo-1) : ('absolute_loss_objective', 6.705791568756103)\u001b[0m\n",
      "\u001b[34m[06/19/2025 15:33:40 INFO 140424578860864] #train_score (algo-1) : ('mse', 70.18114185333252)\u001b[0m\n",
      "\u001b[34m[06/19/2025 15:33:40 INFO 140424578860864] #train_score (algo-1) : ('absolute_loss', 6.705791568756103)\u001b[0m\n",
      "\u001b[34m[06/19/2025 15:33:40 INFO 140424578860864] #train_score (algo-1) : ('rmse', 8.377418567394882)\u001b[0m\n",
      "\u001b[34m[06/19/2025 15:33:40 INFO 140424578860864] #train_score (algo-1) : ('r2', 0.8909790561834756)\u001b[0m\n",
      "\u001b[34m[06/19/2025 15:33:40 INFO 140424578860864] #train_score (algo-1) : ('mae', 6.7057915210723875)\u001b[0m\n",
      "\u001b[34m[06/19/2025 15:33:40 INFO 140424578860864] #quality_metric: host=algo-1, train absolute_loss_objective <loss>=6.705791568756103\u001b[0m\n",
      "\u001b[34m[06/19/2025 15:33:40 INFO 140424578860864] #quality_metric: host=algo-1, train mse <loss>=70.18114185333252\u001b[0m\n",
      "\u001b[34m[06/19/2025 15:33:40 INFO 140424578860864] #quality_metric: host=algo-1, train absolute_loss <loss>=6.705791568756103\u001b[0m\n",
      "\u001b[34m[06/19/2025 15:33:40 INFO 140424578860864] #quality_metric: host=algo-1, train rmse <loss>=8.377418567394882\u001b[0m\n",
      "\u001b[34m[06/19/2025 15:33:40 INFO 140424578860864] #quality_metric: host=algo-1, train r2 <loss>=0.8909790561834756\u001b[0m\n",
      "\u001b[34m[06/19/2025 15:33:40 INFO 140424578860864] #quality_metric: host=algo-1, train mae <loss>=6.7057915210723875\u001b[0m\n",
      "\u001b[34m[06/19/2025 15:33:40 INFO 140424578860864] Best model found for hyperparameters: {\"optimizer\": \"adam\", \"learning_rate\": 0.1, \"wd\": 0.0001, \"l1\": 0.0, \"lr_scheduler_step\": 10, \"lr_scheduler_factor\": 0.99, \"lr_scheduler_minimum_lr\": 0.0001}\u001b[0m\n",
      "\u001b[34m[06/19/2025 15:33:40 INFO 140424578860864] Saved checkpoint to \"/tmp/tmpb4ovgsx1/mx-mod-0000.params\"\u001b[0m\n",
      "\u001b[34m[06/19/2025 15:33:40 INFO 140424578860864] Test data is not provided.\u001b[0m\n",
      "\u001b[34m#metrics {\"StartTime\": 1750347219.5009384, \"EndTime\": 1750347220.0656877, \"Dimensions\": {\"Algorithm\": \"Linear Learner\", \"Host\": \"algo-1\", \"Operation\": \"training\"}, \"Metrics\": {\"initialize.time\": {\"sum\": 121.22964859008789, \"count\": 1, \"min\": 121.22964859008789, \"max\": 121.22964859008789}, \"epochs\": {\"sum\": 6.0, \"count\": 1, \"min\": 6, \"max\": 6}, \"check_early_stopping.time\": {\"sum\": 3.0498504638671875, \"count\": 6, \"min\": 0.15687942504882812, \"max\": 0.9951591491699219}, \"update.time\": {\"sum\": 415.9281253814697, \"count\": 6, \"min\": 66.21313095092773, \"max\": 73.68159294128418}, \"finalize.time\": {\"sum\": 9.041786193847656, \"count\": 1, \"min\": 9.041786193847656, \"max\": 9.041786193847656}, \"setuptime\": {\"sum\": 1.8062591552734375, \"count\": 1, \"min\": 1.8062591552734375, \"max\": 1.8062591552734375}, \"totaltime\": {\"sum\": 656.7742824554443, \"count\": 1, \"min\": 656.7742824554443, \"max\": 656.7742824554443}}}\u001b[0m\n",
      "\n",
      "2025-06-19 15:33:56 Uploading - Uploading generated training model\n",
      "2025-06-19 15:33:56 Completed - Training job completed\n",
      "Training seconds: 164\n",
      "Billable seconds: 164\n"
     ]
    }
   ],
   "source": [
    "linear.fit({\"train\":s3_train_data})"
   ]
  },
  {
   "cell_type": "code",
   "execution_count": 129,
   "id": "74f45b15-f871-4abb-bee9-86e4ae0aadc4",
   "metadata": {},
   "outputs": [
    {
     "name": "stdout",
     "output_type": "stream",
     "text": [
      "\u001b[2;36m[06/19/25 15:52:49]\u001b[0m\u001b[2;36m \u001b[0m\u001b[1;94mINFO    \u001b[0m Creating model with name:           \u001b]8;id=813661;file:///opt/conda/lib/python3.11/site-packages/sagemaker/session.py\u001b\\\u001b[2msession.py\u001b[0m\u001b]8;;\u001b\\\u001b[2m:\u001b[0m\u001b]8;id=715971;file:///opt/conda/lib/python3.11/site-packages/sagemaker/session.py#4094\u001b\\\u001b[2m4094\u001b[0m\u001b]8;;\u001b\\\n",
      "\u001b[2;36m                    \u001b[0m         linear-learner-\u001b[1;36m2025\u001b[0m-06-19-15-52-49- \u001b[2m               \u001b[0m\n",
      "\u001b[2;36m                    \u001b[0m         775                                 \u001b[2m               \u001b[0m\n",
      "\u001b[2;36m[06/19/25 15:52:50]\u001b[0m\u001b[2;36m \u001b[0m\u001b[1;94mINFO    \u001b[0m Creating endpoint-config with name  \u001b]8;id=202151;file:///opt/conda/lib/python3.11/site-packages/sagemaker/session.py\u001b\\\u001b[2msession.py\u001b[0m\u001b]8;;\u001b\\\u001b[2m:\u001b[0m\u001b]8;id=393293;file:///opt/conda/lib/python3.11/site-packages/sagemaker/session.py#5889\u001b\\\u001b[2m5889\u001b[0m\u001b]8;;\u001b\\\n",
      "\u001b[2;36m                    \u001b[0m         linear-learner-\u001b[1;36m2025\u001b[0m-06-19-15-52-49- \u001b[2m               \u001b[0m\n",
      "\u001b[2;36m                    \u001b[0m         775                                 \u001b[2m               \u001b[0m\n",
      "\u001b[2;36m                   \u001b[0m\u001b[2;36m \u001b[0m\u001b[1;94mINFO    \u001b[0m Creating endpoint with name         \u001b]8;id=418777;file:///opt/conda/lib/python3.11/site-packages/sagemaker/session.py\u001b\\\u001b[2msession.py\u001b[0m\u001b]8;;\u001b\\\u001b[2m:\u001b[0m\u001b]8;id=256873;file:///opt/conda/lib/python3.11/site-packages/sagemaker/session.py#4711\u001b\\\u001b[2m4711\u001b[0m\u001b]8;;\u001b\\\n",
      "\u001b[2;36m                    \u001b[0m         linear-learner-\u001b[1;36m2025\u001b[0m-06-19-15-52-49- \u001b[2m               \u001b[0m\n",
      "\u001b[2;36m                    \u001b[0m         775                                 \u001b[2m               \u001b[0m\n",
      "--------!"
     ]
    }
   ],
   "source": [
    "linear_regressor = linear.deploy(initial_instance_count = 1, instance_type = \"ml.m4.xlarge\")"
   ]
  },
  {
   "cell_type": "code",
   "execution_count": 134,
   "id": "1e9423df-8e2c-4a36-b084-2e585bb24913",
   "metadata": {},
   "outputs": [],
   "source": [
    "linear_regressor.serializer = sagemaker.serializers.CSVSerializer()\n",
    "linear_regressor.deserializer = sagemaker.deserializers.JSONDeserializer()"
   ]
  },
  {
   "cell_type": "code",
   "execution_count": 135,
   "id": "b5c91db4-a57f-4a61-89d6-b062e4176190",
   "metadata": {},
   "outputs": [],
   "source": [
    "results = linear_regressor.predict(x_test)"
   ]
  },
  {
   "cell_type": "code",
   "execution_count": 136,
   "id": "2f0aa0dc-323f-4267-aa78-97596ba44c2b",
   "metadata": {},
   "outputs": [
    {
     "data": {
      "text/plain": [
       "{'predictions': [{'score': 26.486217498779297},\n",
       "  {'score': 71.33539581298828},\n",
       "  {'score': 90.72962951660156},\n",
       "  {'score': 20.425518035888672},\n",
       "  {'score': 61.638267517089844}]}"
      ]
     },
     "execution_count": 136,
     "metadata": {},
     "output_type": "execute_result"
    }
   ],
   "source": [
    "results"
   ]
  },
  {
   "cell_type": "code",
   "execution_count": 138,
   "id": "92bed973-9405-4ba4-8804-7f937664b0fe",
   "metadata": {},
   "outputs": [],
   "source": [
    "predictions = np.array([i[\"score\"] for i in results[\"predictions\"]])"
   ]
  },
  {
   "cell_type": "code",
   "execution_count": 139,
   "id": "101c55d4-4bca-4276-a413-06f958d13fce",
   "metadata": {},
   "outputs": [
    {
     "data": {
      "text/plain": [
       "array([26.4862175 , 71.33539581, 90.72962952, 20.42551804, 61.63826752])"
      ]
     },
     "execution_count": 139,
     "metadata": {},
     "output_type": "execute_result"
    }
   ],
   "source": [
    "predictions"
   ]
  },
  {
   "cell_type": "code",
   "execution_count": null,
   "id": "5b77b400-faf7-4c99-b11b-700f03eea30e",
   "metadata": {},
   "outputs": [],
   "source": []
  }
 ],
 "metadata": {
  "kernelspec": {
   "display_name": "Python 3 (ipykernel)",
   "language": "python",
   "name": "python3"
  },
  "language_info": {
   "codemirror_mode": {
    "name": "ipython",
    "version": 3
   },
   "file_extension": ".py",
   "mimetype": "text/x-python",
   "name": "python",
   "nbconvert_exporter": "python",
   "pygments_lexer": "ipython3",
   "version": "3.11.11"
  }
 },
 "nbformat": 4,
 "nbformat_minor": 5
}
